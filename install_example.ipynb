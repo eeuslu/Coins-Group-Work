{
 "cells": [
  {
   "cell_type": "code",
   "execution_count": 1,
   "metadata": {},
   "outputs": [
    {
     "output_type": "stream",
     "name": "stdout",
     "text": "Obtaining file:///C:/Users/erenu/Desktop/OSN%20Projekt/coins-repo/Coins-Group-Work\nRequirement already satisfied: pandas in c:\\users\\erenu\\anaconda3\\envs\\coins\\lib\\site-packages (from coins==0.0.1.dev1) (1.0.3)\nRequirement already satisfied: pytz>=2017.2 in c:\\users\\erenu\\anaconda3\\envs\\coins\\lib\\site-packages (from pandas->coins==0.0.1.dev1) (2020.1)\nRequirement already satisfied: numpy>=1.13.3 in c:\\users\\erenu\\anaconda3\\envs\\coins\\lib\\site-packages (from pandas->coins==0.0.1.dev1) (1.18.1)\nRequirement already satisfied: python-dateutil>=2.6.1 in c:\\users\\erenu\\anaconda3\\envs\\coins\\lib\\site-packages (from pandas->coins==0.0.1.dev1) (2.8.1)\nRequirement already satisfied: six>=1.5 in c:\\users\\erenu\\anaconda3\\envs\\coins\\lib\\site-packages (from python-dateutil>=2.6.1->pandas->coins==0.0.1.dev1) (1.14.0)\nInstalling collected packages: coins\n  Attempting uninstall: coins\n    Found existing installation: coins 0.0.1.dev1\n    Uninstalling coins-0.0.1.dev1:\n      Successfully uninstalled coins-0.0.1.dev1\n  Running setup.py develop for coins\nSuccessfully installed coins\n"
    }
   ],
   "source": [
    "!pip install -e ."
   ]
  },
  {
   "cell_type": "code",
   "execution_count": 2,
   "metadata": {},
   "outputs": [],
   "source": [
    "import coins"
   ]
  },
  {
   "cell_type": "code",
   "execution_count": 3,
   "metadata": {},
   "outputs": [
    {
     "output_type": "stream",
     "name": "stdout",
     "text": "test successful\n"
    }
   ],
   "source": [
    "coins.io.testmethod()"
   ]
  }
 ],
 "metadata": {
  "language_info": {
   "codemirror_mode": {
    "name": "ipython",
    "version": 3
   },
   "file_extension": ".py",
   "mimetype": "text/x-python",
   "name": "python",
   "nbconvert_exporter": "python",
   "pygments_lexer": "ipython3",
   "version": "3.7.7-final"
  },
  "orig_nbformat": 2,
  "kernelspec": {
   "name": "python3",
   "display_name": "Python 3"
  }
 },
 "nbformat": 4,
 "nbformat_minor": 2
}