{
 "cells": [
  {
   "cell_type": "markdown",
   "metadata": {},
   "source": [
    "# Example: IBM Watson sentiment analysis"
   ]
  },
  {
   "cell_type": "markdown",
   "metadata": {},
   "source": [
    "You need to do \"pip install ibm-watson\" first\n",
    "\n",
    "Attention: API Keys and URL are confidential!"
   ]
  },
  {
   "cell_type": "code",
   "execution_count": 7,
   "metadata": {},
   "outputs": [],
   "source": [
    "import json\n",
    "from ibm_cloud_sdk_core.authenticators import IAMAuthenticator"
   ]
  },
  {
   "cell_type": "markdown",
   "metadata": {},
   "source": [
    "## English version"
   ]
  },
  {
   "cell_type": "code",
   "execution_count": 8,
   "metadata": {},
   "outputs": [],
   "source": [
    "from ibm_watson import NaturalLanguageUnderstandingV1\n",
    "from ibm_watson.natural_language_understanding_v1 import Features, SentimentOptions, EntitiesOptions, KeywordsOptions, EmotionOptions"
   ]
  },
  {
   "cell_type": "code",
   "execution_count": 9,
   "metadata": {},
   "outputs": [],
   "source": [
    "authenticator_nlu = IAMAuthenticator('4tnw-cTxlGqkOzCyx-5bIMHZD6zH-ENzcoNb3p6IEKJL')\n",
    "natural_language_understanding = NaturalLanguageUnderstandingV1(version='2019-07-12', authenticator=authenticator_nlu)\n",
    "natural_language_understanding.set_service_url('https://api.eu-de.natural-language-understanding.watson.cloud.ibm.com/instances/63d36bb4-0f8e-45da-aa96-9c1c4ab3b457')"
   ]
  },
  {
   "cell_type": "code",
   "execution_count": 10,
   "metadata": {},
   "outputs": [],
   "source": [
    "response = natural_language_understanding.analyze(\n",
    "    language='en', \n",
    "    text='Madrid and Catalonia continue to be the Spanish regions worst affected by the pandemic. The two areas reported half of daily coronavirus deaths (121 of 244) and half of all cases (114,340 of 220,325), although the latter figure could change, given that Madrid is continuing to make adjustments to its data.', \n",
    "    features=Features(\n",
    "        sentiment=SentimentOptions(document=True),\n",
    "        emotion=EmotionOptions(document=True),\n",
    "        entities=EntitiesOptions(sentiment=True, emotion=True),\n",
    "        keywords=KeywordsOptions(sentiment=True, emotion=True)\n",
    "    )\n",
    ").get_result()"
   ]
  },
  {
   "cell_type": "code",
   "execution_count": 11,
   "metadata": {},
   "outputs": [
    {
     "output_type": "stream",
     "name": "stdout",
     "text": "{\n  \"usage\": {\n    \"text_units\": 1,\n    \"text_characters\": 306,\n    \"features\": 4\n  },\n  \"sentiment\": {\n    \"document\": {\n      \"score\": -0.788419,\n      \"label\": \"negative\"\n    }\n  },\n  \"language\": \"en\",\n  \"keywords\": [\n    {\n      \"text\": \"half of daily coronavirus deaths\",\n      \"sentiment\": {\n        \"score\": -0.424086,\n        \"label\": \"negative\"\n      },\n      \"relevance\": 0.972357,\n      \"emotion\": {\n        \"sadness\": 0.418488,\n        \"joy\": 0.029073,\n        \"fear\": 0.1519,\n        \"disgust\": 0.044302,\n        \"anger\": 0.078059\n      },\n      \"count\": 1\n    },\n    {\n      \"text\": \"half of all cases\",\n      \"sentiment\": {\n        \"score\": -0.424086,\n        \"label\": \"negative\"\n      },\n      \"relevance\": 0.739863,\n      \"emotion\": {\n        \"sadness\": 0.418488,\n        \"joy\": 0.029073,\n        \"fear\": 0.1519,\n        \"disgust\": 0.044302,\n        \"anger\": 0.078059\n      },\n      \"count\": 1\n    },\n    {\n      \"text\": \"latter figure\",\n      \"sentiment\": {\n        \"score\": -0.424086,\n        \"label\": \"negative\"\n      },\n      \"relevance\": 0.713529,\n      \"emotion\": {\n        \"sadness\": 0.418488,\n        \"joy\": 0.029073,\n        \"fear\": 0.1519,\n        \"disgust\": 0.044302,\n        \"anger\": 0.078059\n      },\n      \"count\": 1\n    },\n    {\n      \"text\": \"areas\",\n      \"sentiment\": {\n        \"score\": -0.424086,\n        \"label\": \"negative\"\n      },\n      \"relevance\": 0.67948,\n      \"emotion\": {\n        \"sadness\": 0.418488,\n        \"joy\": 0.029073,\n        \"fear\": 0.1519,\n        \"disgust\": 0.044302,\n        \"anger\": 0.078059\n      },\n      \"count\": 1\n    },\n    {\n      \"text\": \"Madrid\",\n      \"sentiment\": {\n        \"score\": -0.424086,\n        \"label\": \"negative\"\n      },\n      \"relevance\": 0.60122,\n      \"emotion\": {\n        \"sadness\": 0.428156,\n        \"joy\": 0.020574,\n        \"fear\": 0.150844,\n        \"disgust\": 0.056819,\n        \"anger\": 0.075612\n      },\n      \"count\": 1\n    },\n    {\n      \"text\": \"Catalonia\",\n      \"sentiment\": {\n        \"score\": -0.862829,\n        \"label\": \"negative\"\n      },\n      \"relevance\": 0.545848,\n      \"emotion\": {\n        \"sadness\": 0.371374,\n        \"joy\": 0.060618,\n        \"fear\": 0.123245,\n        \"disgust\": 0.096381,\n        \"anger\": 0.095407\n      },\n      \"count\": 1\n    },\n    {\n      \"text\": \"adjustments\",\n      \"sentiment\": {\n        \"score\": -0.424086,\n        \"label\": \"negative\"\n      },\n      \"relevance\": 0.522195,\n      \"emotion\": {\n        \"sadness\": 0.418488,\n        \"joy\": 0.029073,\n        \"fear\": 0.1519,\n        \"disgust\": 0.044302,\n        \"anger\": 0.078059\n      },\n      \"count\": 1\n    },\n    {\n      \"text\": \"data\",\n      \"sentiment\": {\n        \"score\": -0.424086,\n        \"label\": \"negative\"\n      },\n      \"relevance\": 0.518309,\n      \"emotion\": {\n        \"sadness\": 0.418488,\n        \"joy\": 0.029073,\n        \"fear\": 0.1519,\n        \"disgust\": 0.044302,\n        \"anger\": 0.078059\n      },\n      \"count\": 1\n    },\n    {\n      \"text\": \"Spanish regions\",\n      \"sentiment\": {\n        \"score\": -0.862829,\n        \"label\": \"negative\"\n      },\n      \"relevance\": 0.385652,\n      \"emotion\": {\n        \"sadness\": 0.371374,\n        \"joy\": 0.060618,\n        \"fear\": 0.123245,\n        \"disgust\": 0.096381,\n        \"anger\": 0.095407\n      },\n      \"count\": 1\n    }\n  ],\n  \"entities\": [\n    {\n      \"type\": \"Location\",\n      \"text\": \"Catalonia\",\n      \"sentiment\": {\n        \"score\": -0.862829,\n        \"label\": \"negative\"\n      },\n      \"relevance\": 0.963296,\n      \"emotion\": {\n        \"sadness\": 0.371374,\n        \"joy\": 0.060618,\n        \"fear\": 0.123245,\n        \"disgust\": 0.096381,\n        \"anger\": 0.095407\n      },\n      \"count\": 1,\n      \"confidence\": 0.998029\n    },\n    {\n      \"type\": \"Location\",\n      \"text\": \"Madrid\",\n      \"sentiment\": {\n        \"score\": -0.67681,\n        \"label\": \"negative\"\n      },\n      \"relevance\": 0.944443,\n      \"emotion\": {\n        \"sadness\": 0.428156,\n        \"joy\": 0.020574,\n        \"fear\": 0.150844,\n        \"disgust\": 0.056819,\n        \"anger\": 0.075612\n      },\n      \"count\": 2,\n      \"confidence\": 1.0\n    }\n  ],\n  \"emotion\": {\n    \"document\": {\n      \"emotion\": {\n        \"sadness\": 0.428156,\n        \"joy\": 0.020574,\n        \"fear\": 0.150844,\n        \"disgust\": 0.056819,\n        \"anger\": 0.075612\n      }\n    }\n  }\n}\n"
    }
   ],
   "source": [
    "print(json.dumps(response, indent=2))"
   ]
  },
  {
   "cell_type": "markdown",
   "metadata": {},
   "source": [
    "## German version"
   ]
  },
  {
   "cell_type": "code",
   "execution_count": 12,
   "metadata": {},
   "outputs": [],
   "source": [
    "response = natural_language_understanding.analyze(\n",
    "    language='de', \n",
    "    text='Deutschland drohte in der Coronakrise eine neuerliche Spaltung. Zunehmend verständnislos begegneten sich die beiden Gruppen nach Wochen des national verordneten Stillstands, der Ton wurde rau und rauer, manch guter Nachbar zum Verschwörungstheoretiker, der andere zum Shutdown-Blockwart.', \n",
    "    features=Features(\n",
    "        sentiment=SentimentOptions(document=True),\n",
    "        entities=EntitiesOptions(sentiment=True),\n",
    "        keywords=KeywordsOptions(sentiment=True)\n",
    "    )\n",
    ").get_result()"
   ]
  },
  {
   "cell_type": "code",
   "execution_count": 13,
   "metadata": {},
   "outputs": [
    {
     "output_type": "stream",
     "name": "stdout",
     "text": "{\n  \"usage\": {\n    \"text_units\": 1,\n    \"text_characters\": 287,\n    \"features\": 3\n  },\n  \"sentiment\": {\n    \"document\": {\n      \"score\": -0.940713,\n      \"label\": \"negative\"\n    }\n  },\n  \"language\": \"de\",\n  \"keywords\": [\n    {\n      \"text\": \"verordneten Stillstands\",\n      \"sentiment\": {\n        \"score\": 0,\n        \"label\": \"neutral\"\n      },\n      \"relevance\": 0.861761,\n      \"count\": 1\n    },\n    {\n      \"text\": \"guter Nachbar\",\n      \"sentiment\": {\n        \"score\": 0,\n        \"label\": \"neutral\"\n      },\n      \"relevance\": 0.717978,\n      \"count\": 1\n    },\n    {\n      \"text\": \"Shutdown-Blockwart\",\n      \"sentiment\": {\n        \"score\": 0,\n        \"label\": \"neutral\"\n      },\n      \"relevance\": 0.533172,\n      \"count\": 1\n    },\n    {\n      \"text\": \"neuerliche Spaltung\",\n      \"sentiment\": {\n        \"score\": -0.92745,\n        \"label\": \"negative\"\n      },\n      \"relevance\": 0.533172,\n      \"count\": 1\n    },\n    {\n      \"text\": \"Gruppen\",\n      \"sentiment\": {\n        \"score\": 0,\n        \"label\": \"neutral\"\n      },\n      \"relevance\": 0.424715,\n      \"count\": 1\n    },\n    {\n      \"text\": \"Deutschland\",\n      \"sentiment\": {\n        \"score\": -0.92745,\n        \"label\": \"negative\"\n      },\n      \"relevance\": 0.411751,\n      \"count\": 1\n    },\n    {\n      \"text\": \"Wochen\",\n      \"sentiment\": {\n        \"score\": 0,\n        \"label\": \"neutral\"\n      },\n      \"relevance\": 0.391715,\n      \"count\": 1\n    },\n    {\n      \"text\": \"Ton\",\n      \"sentiment\": {\n        \"score\": 0,\n        \"label\": \"neutral\"\n      },\n      \"relevance\": 0.367828,\n      \"count\": 1\n    },\n    {\n      \"text\": \"Coronakrise\",\n      \"sentiment\": {\n        \"score\": -0.92745,\n        \"label\": \"negative\"\n      },\n      \"relevance\": 0.334346,\n      \"count\": 1\n    },\n    {\n      \"text\": \"Verschw\\u00f6rungstheoretiker\",\n      \"sentiment\": {\n        \"score\": 0,\n        \"label\": \"neutral\"\n      },\n      \"relevance\": 0.331859,\n      \"count\": 1\n    }\n  ],\n  \"entities\": [\n    {\n      \"type\": \"Duration\",\n      \"text\": \"nach Wochen\",\n      \"sentiment\": {\n        \"score\": 0,\n        \"label\": \"neutral\"\n      },\n      \"relevance\": 0.95577,\n      \"count\": 1\n    },\n    {\n      \"type\": \"Location\",\n      \"text\": \"Deutschland\",\n      \"sentiment\": {\n        \"score\": -0.92745,\n        \"label\": \"negative\"\n      },\n      \"relevance\": 0.784674,\n      \"count\": 1\n    },\n    {\n      \"type\": \"Person\",\n      \"text\": \"rauer\",\n      \"sentiment\": {\n        \"score\": 0,\n        \"label\": \"neutral\"\n      },\n      \"relevance\": 0.612405,\n      \"count\": 1\n    },\n    {\n      \"type\": \"Organization\",\n      \"text\": \"Shutdown\",\n      \"sentiment\": {\n        \"score\": 0,\n        \"label\": \"neutral\"\n      },\n      \"relevance\": 0.118216,\n      \"count\": 1\n    }\n  ]\n}\n"
    }
   ],
   "source": [
    "print(json.dumps(response, indent=2))"
   ]
  },
  {
   "cell_type": "markdown",
   "metadata": {},
   "source": [
    "# Example: IBM Watson Image Classification"
   ]
  },
  {
   "cell_type": "code",
   "execution_count": 14,
   "metadata": {},
   "outputs": [],
   "source": [
    "from ibm_watson import VisualRecognitionV3"
   ]
  },
  {
   "cell_type": "code",
   "execution_count": 15,
   "metadata": {},
   "outputs": [],
   "source": [
    "authenticator_vc = IAMAuthenticator('U8xOXn3QMqlmQGBUMKFax7x95jlhrJMkcRGIP6-G_M91')\n",
    "visual_recognition = VisualRecognitionV3(version='2018-03-19', authenticator=authenticator_vc)\n",
    "visual_recognition.set_service_url('https://api.eu-de.visual-recognition.watson.cloud.ibm.com/instances/c8002bb3-ba0f-4d46-bf53-26e74b223709')"
   ]
  },
  {
   "cell_type": "code",
   "execution_count": 17,
   "metadata": {},
   "outputs": [
    {
     "output_type": "stream",
     "name": "stdout",
     "text": "{\n  \"images\": [\n    {\n      \"classifiers\": [\n        {\n          \"classifier_id\": \"default\",\n          \"name\": \"default\",\n          \"classes\": [\n            {\n              \"class\": \"motor vehicle\",\n              \"score\": 0.615,\n              \"type_hierarchy\": \"/vehicle/wheeled vehicle/motor vehicle\"\n            },\n            {\n              \"class\": \"wheeled vehicle\",\n              \"score\": 0.851\n            },\n            {\n              \"class\": \"vehicle\",\n              \"score\": 0.854\n            },\n            {\n              \"class\": \"body (of vehicle)\",\n              \"score\": 0.602\n            },\n            {\n              \"class\": \"minicar\",\n              \"score\": 0.544,\n              \"type_hierarchy\": \"/vehicle/wheeled vehicle/car/minicar\"\n            },\n            {\n              \"class\": \"car\",\n              \"score\": 0.68\n            },\n            {\n              \"class\": \"Light Truck\",\n              \"score\": 0.506,\n              \"type_hierarchy\": \"/vehicle/wheeled vehicle/truck/Light Truck\"\n            },\n            {\n              \"class\": \"truck\",\n              \"score\": 0.519\n            },\n            {\n              \"class\": \"compact car\",\n              \"score\": 0.5,\n              \"type_hierarchy\": \"/vehicle/wheeled vehicle/car/compact car\"\n            },\n            {\n              \"class\": \"mechanism\",\n              \"score\": 0.798\n            },\n            {\n              \"class\": \"Indian red color\",\n              \"score\": 0.874\n            },\n            {\n              \"class\": \"dark red color\",\n              \"score\": 0.672\n            }\n          ]\n        }\n      ],\n      \"image\": \"fortbewegung-pixabay-au06_fiat500.jpg\"\n    }\n  ],\n  \"images_processed\": 1,\n  \"custom_classes\": 0\n}\n"
    }
   ],
   "source": [
    "with open('../data/input/images/version2/fortbewegung-pixabay-au06_fiat500.jpg', 'rb') as images_file:\n",
    "    classes = visual_recognition.classify(\n",
    "        images_file=images_file\n",
    "    ).get_result()\n",
    "    print(json.dumps(classes, indent=2))"
   ]
  },
  {
   "cell_type": "markdown",
   "metadata": {},
   "source": [
    "# Example: IBM Watson Language Translator"
   ]
  },
  {
   "cell_type": "code",
   "execution_count": 18,
   "metadata": {},
   "outputs": [],
   "source": [
    "from ibm_watson import LanguageTranslatorV3"
   ]
  },
  {
   "cell_type": "code",
   "execution_count": 19,
   "metadata": {},
   "outputs": [],
   "source": [
    "authenticator_la = IAMAuthenticator('TmLFZ4QIpe7jRCNOHiGcwxH7FJmdKEzhm8dbNpX-NBx-')\n",
    "language_translator = LanguageTranslatorV3(version='2018-05-01', authenticator=authenticator_la)\n",
    "\n",
    "language_translator.set_service_url('https://api.eu-de.language-translator.watson.cloud.ibm.com/instances/cf94c309-d060-42c3-b06f-9882be7e5850')"
   ]
  },
  {
   "cell_type": "code",
   "execution_count": 20,
   "metadata": {},
   "outputs": [],
   "source": [
    "translation = language_translator.translate(\n",
    "    text='Persönlich bin ich sehr angetan von dem, was DeepL auf dem Kasten hat und ja, ich finde es auch richtig klasse, dass diese neue Evolutionsstufe maschineller Übersetzungen nicht mit einer Software von Facebook, Microsoft, Apple oder eben Google erreicht wurde, sondern durch ein Unternehmen aus Deutschland. Wir machen uns ja gerne mal ein bisschen klein und tun so, als ob es hierzulande niemanden gibt, der den Großen Paroli bieten kann. DeepL ist ein schönes Beispiel dafür, dass es eben doch geht.',\n",
    "    model_id='de-en'\n",
    ").get_result()"
   ]
  },
  {
   "cell_type": "code",
   "execution_count": 21,
   "metadata": {},
   "outputs": [
    {
     "output_type": "stream",
     "name": "stdout",
     "text": "{\n  \"translations\": [\n    {\n      \"translation\": \"Personally, I am very fond of what DeepL has on the box and yes, I also think it is really great that this new evolutionary stage of machine translation has not been achieved with a software from Facebook, Microsoft, Apple or just Google, but by a company from Germany. We like to make ourselves a little bit small and do as if there is no one in this country who can offer the Great Paroli. DeepL is a fine example of the fact that it is all about it.\"\n    }\n  ],\n  \"word_count\": 81,\n  \"character_count\": 500\n}\n"
    }
   ],
   "source": [
    "print(json.dumps(translation, indent=2, ensure_ascii=False))"
   ]
  },
  {
   "cell_type": "code",
   "execution_count": null,
   "metadata": {},
   "outputs": [],
   "source": []
  }
 ],
 "metadata": {
  "language_info": {
   "codemirror_mode": {
    "name": "ipython",
    "version": 3
   },
   "file_extension": ".py",
   "mimetype": "text/x-python",
   "name": "python",
   "nbconvert_exporter": "python",
   "pygments_lexer": "ipython3",
   "version": "3.7.7-final"
  },
  "orig_nbformat": 2,
  "kernelspec": {
   "name": "python37764bitcoinsconda164a24dc70bc4ad28fd233035de8d097",
   "display_name": "Python 3.7.7 64-bit ('coins': conda)"
  }
 },
 "nbformat": 4,
 "nbformat_minor": 2
}