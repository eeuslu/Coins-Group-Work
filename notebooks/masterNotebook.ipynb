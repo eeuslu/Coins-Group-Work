{
 "cells": [
  {
   "cell_type": "code",
   "execution_count": 1,
   "metadata": {},
   "outputs": [],
   "source": [
    "import coins\n",
    "import pandas as pd\n",
    "import matplotlib.pyplot as plt\n",
    "import seaborn as sns"
   ]
  },
  {
   "cell_type": "markdown",
   "metadata": {},
   "source": [
    "# Loading and first Preprocessing of raw Data, Creation of customized DataFrames"
   ]
  },
  {
   "cell_type": "code",
   "execution_count": 2,
   "metadata": {},
   "outputs": [],
   "source": [
    "# LOAD RAW DATA\n",
    "ipip = coins.io.getPreprocessedRawData('ipip')\n",
    "mpzm = coins.io.getPreprocessedRawData('mpzm')\n",
    "mood = coins.io.getPreprocessedRawData('mood')\n",
    "#images = coins.io.getPreprocessedRawData('images')\n",
    "sessions = coins.io.getPreprocessedRawData('sessions')\n",
    "\n",
    "#imageLabels = coins.io.getPreprocessedRawData('imageLabels')"
   ]
  },
  {
   "cell_type": "code",
   "execution_count": 3,
   "metadata": {},
   "outputs": [],
   "source": [
    "# BUILD DEFINED DATAFRAMES\n",
    "dfPersonality = coins.dfcreation.createPersonality(ipip)\n",
    "#dfImageDescriptions = coins.dfcreation.createImageDescriptions(images)\n",
    "#dfImageRatings = coins.dfcreation.createImageRatings(images)\n",
    "dfSocioDemographics = coins.dfcreation.createSocioDemographics(ipip, mpzm, ipip, mood)\n",
    "#dfImageLabels = imageLabels"
   ]
  },
  {
   "cell_type": "code",
   "execution_count": 7,
   "metadata": {},
   "outputs": [],
   "source": [
    "# SAVE DEFINED DATAFRAMES\n",
    "coins.io.saveInitialDFs(dfPersonality, 'personality')\n",
    "coins.io.saveInitialDFs(dfImageDescriptions, 'imageDescriptions')\n",
    "coins.io.saveInitialDFs(dfImageRatings, 'imageRatings')\n",
    "coins.io.saveInitialDFs(dfSocioDemographics, 'socioDemographics')\n",
    "coins.io.saveInitialDFs(dfImageLabels, 'imageLabels')"
   ]
  },
  {
   "cell_type": "markdown",
   "metadata": {},
   "source": [
    "# Special Preparation of dfImageDescriptions"
   ]
  },
  {
   "cell_type": "code",
   "execution_count": 8,
   "metadata": {},
   "outputs": [],
   "source": [
    "# LOAD DATAFRAMES\n",
    "dfImageDescriptions = coins.io.loadInitialDFs('imageDescriptions')"
   ]
  },
  {
   "cell_type": "code",
   "execution_count": null,
   "metadata": {},
   "outputs": [],
   "source": [
    "# OPTION 1: Analyze and save imageDescriptions (needs credentials, costs money)\n",
    "dfImageDescriptions = translateToEnglish(dfImageDescriptions)\n",
    "dfImageDescriptions = coins.nluTranslation.analyzeEnglishSentimentAndEmotions(dfImageDescriptions)\n",
    "dfImageDescriptions = coins.nluTranslation.fillImageDescriptions(dfImageDescriptions)\n",
    "coins.io.savePreparedImageDescriptions(dfImageDescriptions)"
   ]
  },
  {
   "cell_type": "code",
   "execution_count": 4,
   "metadata": {},
   "outputs": [
    {
     "ename": "AttributeError",
     "evalue": "module 'coins.io' has no attribute 'pValue'",
     "output_type": "error",
     "traceback": [
      "\u001b[1;31m---------------------------------------------------------------------------\u001b[0m",
      "\u001b[1;31mAttributeError\u001b[0m                            Traceback (most recent call last)",
      "\u001b[1;32m<ipython-input-4-d63c2163f903>\u001b[0m in \u001b[0;36m<module>\u001b[1;34m\u001b[0m\n\u001b[0;32m      1\u001b[0m \u001b[1;31m# OPTION 2: Load existing analyzed imageDescriptions\u001b[0m\u001b[1;33m\u001b[0m\u001b[1;33m\u001b[0m\u001b[1;33m\u001b[0m\u001b[0m\n\u001b[1;32m----> 2\u001b[1;33m \u001b[0mdfImageDescriptions\u001b[0m \u001b[1;33m=\u001b[0m \u001b[0mcoins\u001b[0m\u001b[1;33m.\u001b[0m\u001b[0mio\u001b[0m\u001b[1;33m.\u001b[0m\u001b[0mpValue\u001b[0m\u001b[1;33m.\u001b[0m\u001b[0mloadPreparedImageDescriptions\u001b[0m\u001b[1;33m(\u001b[0m\u001b[1;33m)\u001b[0m\u001b[1;33m\u001b[0m\u001b[1;33m\u001b[0m\u001b[0m\n\u001b[0m",
      "\u001b[1;31mAttributeError\u001b[0m: module 'coins.io' has no attribute 'pValue'"
     ]
    }
   ],
   "source": [
    "# OPTION 2: Load existing analyzed imageDescriptions\n",
    "dfImageDescriptions = coins.io.pValue.loadPreparedImageDescriptions()"
   ]
  },
  {
   "cell_type": "markdown",
   "metadata": {},
   "source": [
    "# Check for significant Correlations between all 5 DataFrames\n",
    "\n",
    "## For this first prepare the dataframes\n",
    "\n",
    "### Personality"
   ]
  },
  {
   "cell_type": "markdown",
   "metadata": {},
   "source": [
    "split = \"Hard\" or \"Mean\" or \"Median\" => defines how to split\n",
    "multiclass = True, False  => if False a dummie is created for each class"
   ]
  },
  {
   "cell_type": "code",
   "execution_count": 10,
   "metadata": {},
   "outputs": [
    {
     "data": {
      "text/html": "<div>\n<style scoped>\n    .dataframe tbody tr th:only-of-type {\n        vertical-align: middle;\n    }\n\n    .dataframe tbody tr th {\n        vertical-align: top;\n    }\n\n    .dataframe thead th {\n        text-align: right;\n    }\n</style>\n<table border=\"1\" class=\"dataframe\">\n  <thead>\n    <tr style=\"text-align: right;\">\n      <th></th>\n      <th>user_id</th>\n      <th>neurotizismusCategory</th>\n      <th>extraversionCategory</th>\n      <th>offenheitCategory</th>\n      <th>vertraeglichkeitCategory</th>\n      <th>gewissenhaftigkeitCategory</th>\n    </tr>\n  </thead>\n  <tbody>\n    <tr>\n      <th>0</th>\n      <td>5583e52e7a68616fe90000ba</td>\n      <td>1.0</td>\n      <td>0.0</td>\n      <td>1.0</td>\n      <td>0.0</td>\n      <td>1.0</td>\n    </tr>\n    <tr>\n      <th>1</th>\n      <td>5583e5417a68616fe90001e5</td>\n      <td>0.0</td>\n      <td>0.0</td>\n      <td>1.0</td>\n      <td>0.0</td>\n      <td>0.0</td>\n    </tr>\n    <tr>\n      <th>2</th>\n      <td>5583e5477a68616fe900027b</td>\n      <td>1.0</td>\n      <td>1.0</td>\n      <td>1.0</td>\n      <td>0.0</td>\n      <td>0.0</td>\n    </tr>\n    <tr>\n      <th>3</th>\n      <td>5583e5da7a68616fe9001d1f</td>\n      <td>1.0</td>\n      <td>1.0</td>\n      <td>1.0</td>\n      <td>1.0</td>\n      <td>0.0</td>\n    </tr>\n    <tr>\n      <th>4</th>\n      <td>5583e61d7a68616fe9002cd0</td>\n      <td>1.0</td>\n      <td>1.0</td>\n      <td>1.0</td>\n      <td>0.0</td>\n      <td>0.0</td>\n    </tr>\n    <tr>\n      <th>...</th>\n      <td>...</td>\n      <td>...</td>\n      <td>...</td>\n      <td>...</td>\n      <td>...</td>\n      <td>...</td>\n    </tr>\n    <tr>\n      <th>1047</th>\n      <td>5ea028a39fdb05543432525e</td>\n      <td>0.0</td>\n      <td>0.0</td>\n      <td>0.0</td>\n      <td>0.0</td>\n      <td>1.0</td>\n    </tr>\n    <tr>\n      <th>1048</th>\n      <td>5ea2e41e9fdb050253832c49</td>\n      <td>1.0</td>\n      <td>1.0</td>\n      <td>1.0</td>\n      <td>1.0</td>\n      <td>0.0</td>\n    </tr>\n    <tr>\n      <th>1049</th>\n      <td>5ea314f89fdb0502538332a7</td>\n      <td>1.0</td>\n      <td>0.0</td>\n      <td>1.0</td>\n      <td>0.0</td>\n      <td>1.0</td>\n    </tr>\n    <tr>\n      <th>1050</th>\n      <td>5ea5bbc89fdb051e6a417791</td>\n      <td>1.0</td>\n      <td>0.0</td>\n      <td>0.0</td>\n      <td>0.0</td>\n      <td>1.0</td>\n    </tr>\n    <tr>\n      <th>1051</th>\n      <td>5ea6c6669fdb057eabb18a83</td>\n      <td>1.0</td>\n      <td>1.0</td>\n      <td>1.0</td>\n      <td>1.0</td>\n      <td>1.0</td>\n    </tr>\n  </tbody>\n</table>\n<p>1052 rows × 6 columns</p>\n</div>",
      "text/plain": "                       user_id  neurotizismusCategory  extraversionCategory  \\\n0     5583e52e7a68616fe90000ba                    1.0                   0.0   \n1     5583e5417a68616fe90001e5                    0.0                   0.0   \n2     5583e5477a68616fe900027b                    1.0                   1.0   \n3     5583e5da7a68616fe9001d1f                    1.0                   1.0   \n4     5583e61d7a68616fe9002cd0                    1.0                   1.0   \n...                        ...                    ...                   ...   \n1047  5ea028a39fdb05543432525e                    0.0                   0.0   \n1048  5ea2e41e9fdb050253832c49                    1.0                   1.0   \n1049  5ea314f89fdb0502538332a7                    1.0                   0.0   \n1050  5ea5bbc89fdb051e6a417791                    1.0                   0.0   \n1051  5ea6c6669fdb057eabb18a83                    1.0                   1.0   \n\n      offenheitCategory  vertraeglichkeitCategory  gewissenhaftigkeitCategory  \n0                   1.0                       0.0                         1.0  \n1                   1.0                       0.0                         0.0  \n2                   1.0                       0.0                         0.0  \n3                   1.0                       1.0                         0.0  \n4                   1.0                       0.0                         0.0  \n...                 ...                       ...                         ...  \n1047                0.0                       0.0                         1.0  \n1048                1.0                       1.0                         0.0  \n1049                1.0                       0.0                         1.0  \n1050                0.0                       0.0                         1.0  \n1051                1.0                       1.0                         1.0  \n\n[1052 rows x 6 columns]"
     },
     "execution_count": 10,
     "metadata": {},
     "output_type": "execute_result"
    }
   ],
   "source": [
    "returned = coins.correlation.prepare_Personality(dfPersonality,split=\"Median\",multiclass=True)\n",
    "returned"
   ]
  },
  {
   "cell_type": "markdown",
   "metadata": {},
   "source": [
    "### SocioDemographics\n",
    "\n"
   ]
  },
  {
   "cell_type": "markdown",
   "metadata": {},
   "source": [
    "The number defines how much percentage a value of a categorical varable need to be keept.\n",
    "All values under this percentage will be droped"
   ]
  },
  {
   "cell_type": "code",
   "execution_count": 8,
   "metadata": {},
   "outputs": [
    {
     "data": {
      "text/plain": "['gender_n',\n 'country_AD',\n 'country_AF',\n 'country_AG',\n 'country_AL',\n 'country_AM',\n 'country_AO',\n 'country_AQ',\n 'country_AR',\n 'country_AS',\n 'country_AW',\n 'country_AX',\n 'country_BA',\n 'country_BE',\n 'country_BG',\n 'country_BO',\n 'country_BR',\n 'country_BS',\n 'country_CA',\n 'country_CD',\n 'country_CF',\n 'country_CI',\n 'country_CL',\n 'country_CM',\n 'country_CN',\n 'country_CO',\n 'country_CZ',\n 'country_DK',\n 'country_DO',\n 'country_DZ',\n 'country_EC',\n 'country_EE',\n 'country_EG',\n 'country_ER',\n 'country_ES',\n 'country_Europäische Union',\n 'country_FI',\n 'country_FM',\n 'country_FR',\n 'country_GB',\n 'country_GE',\n 'country_GH',\n 'country_GR',\n 'country_HR',\n 'country_HU',\n 'country_ID',\n 'country_IE',\n 'country_IN',\n 'country_IQ',\n 'country_IR',\n 'country_JM',\n 'country_JP',\n 'country_KH',\n 'country_KR',\n 'country_LB',\n 'country_LI',\n 'country_LK',\n 'country_LT',\n 'country_LU',\n 'country_LV',\n 'country_ME',\n 'country_MK',\n 'country_MU',\n 'country_MX',\n 'country_Mazedonien [EJR]',\n 'country_Metropolitan-Frankreich',\n 'country_NG',\n 'country_NL',\n 'country_NP',\n 'country_PA',\n 'country_PE',\n 'country_PH',\n 'country_PK',\n 'country_PL',\n 'country_PT',\n 'country_RO',\n 'country_RS',\n 'country_RU',\n 'country_SE',\n 'country_SI',\n 'country_SK',\n 'country_SO',\n 'country_SY',\n 'country_Serbien und Montenegro',\n 'country_TG',\n 'country_TH',\n 'country_TM',\n 'country_TN',\n 'country_TR',\n 'country_TW',\n 'country_UA',\n 'country_UG',\n 'country_US',\n 'country_UZ',\n 'country_VE',\n 'country_VI',\n 'country_VN',\n 'country_Vereinigte Staaten',\n 'country_XK',\n 'country_ZA',\n 'job_sector_Bergbau und Gewinnung von Steinen und Erden',\n 'job_sector_Energie und Wasser (Alte Plattform)',\n 'job_sector_Grundstücks- und Wohnungswesen',\n 'job_sector_Kunst, Unterhaltung und Erholung',\n 'job_sector_Land- und Forstwirtschaft, Fischerei',\n 'job_sector_Wasserversorgung; Abwasser- und Abfallentsorgung und Beseitigung von Umweltverschmutzungen',\n 'educational_achievement_1-jährige Vorlehre, 1-jährige allgemeinbildende Schule, 10. Schuljahr',\n 'educational_achievement_bis maximal 7 Jahre obligatorische Schule',\n 'educational_achievement_kein Bildungsabschluss']"
     },
     "execution_count": 8,
     "metadata": {},
     "output_type": "execute_result"
    }
   ],
   "source": [
    "dfSocialDemographicsDummies,dfSocialDemographicsDummiesWithID,dropedColumnsList = coins.correlation.prepare_SocioDemographics(dfSocioDemographics,1)\n",
    "dropedColumnsList"
   ]
  },
  {
   "cell_type": "code",
   "execution_count": null,
   "metadata": {},
   "outputs": [],
   "source": []
  }
 ],
 "metadata": {
  "language_info": {
   "codemirror_mode": {
    "name": "ipython",
    "version": 3
   },
   "file_extension": ".py",
   "mimetype": "text/x-python",
   "name": "python",
   "nbconvert_exporter": "python",
   "pygments_lexer": "ipython3",
   "version": "3.7.7-final"
  },
  "orig_nbformat": 2,
  "kernelspec": {
   "name": "python37764bitcoinsconda8fdf84482ac44f98b7a8063d11c85d40",
   "display_name": "Python 3.7.7 64-bit ('coins': conda)"
  }
 },
 "nbformat": 4,
 "nbformat_minor": 2
}