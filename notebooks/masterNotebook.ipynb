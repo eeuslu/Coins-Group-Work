{
 "cells": [
  {
   "cell_type": "code",
   "execution_count": 2,
   "metadata": {},
   "outputs": [],
   "source": [
    "import coins"
   ]
  },
  {
   "cell_type": "markdown",
   "metadata": {},
   "source": [
    "# Train ML models\n",
    "\n",
    "The function underneath trains ML models for prediction. This is necessary in two situations:\n",
    "- The program is used for the first time and no models exist\n",
    "- New data from laufbahndiagnostik is available and should be analyzed\n",
    "\n",
    "Data must be placed in the directory 'data/input/' as csv file. The following data is considered:\n",
    "- Session data as 'sessions_v1.csv' (old data structure) and 'sessions_v2.csv' (new data structure)\n",
    "- Image data as 'images_v1.csv' (old data structure) and 'images_v2.csv' (new data structure)\n",
    "- IPIP data as 'ipip.csv'\n",
    "- Mood data as 'mood.csv'\n",
    "- MPZM data as 'mpzm.csv'\n",
    "- Emotion data as 'emotions_v2.csv' (new data structure)\n",
    "- Handbuild image labels as 'imageLabels.csv'\n",
    "\n",
    "The function furthermore includes the translation of the user-written image descriptions and analyses it towards sentiment and emotions. The outcome is saved as a seperate csv file in the directory 'data/output/analyzedDataFrames/'. To activate this functionality, please set translate=True. Otherwise, set translate=False and the old translations and analysis will be loaded. Do only use it, if new data has to be translated and analyzed, as this charges your deposit at IBM Watson and DeepL. You need to provide your IBM Watson and DeepL API Credentials in 'data/input/credentials.yaml\".\n",
    "\n",
    "For building the ML models, this function also tries to find significant correlations in the data. As the function categorizes nearly all numerical values regarding the user for a simplification of the data, you can decide, if you want to use two classes (e.g. neurotic / not neurotic) or three classes (e.g. not neurotic / neutral / neurotic) by setting the parameter multiclass=False for two classes, or multiclass=True for three classes. In combination, you are able to define where the split regarding the categorization should be done:\n",
    "- mean\n",
    "- median\n",
    "- hard (based on provided documentation)\n",
    "\n",
    "Please keep in mind, that a hard split can lead to errors due to unbalanced data.\n",
    "\n",
    "The drop percentage specifies, how much sample data points have to be existent. For example, the given percentage of 5 specifies, that samples in the data, which occur less than 5 percent of all values, will be dropped. \n",
    "\n",
    "Executing the function can take a lot of time, depending on your computational power."
   ]
  },
  {
   "cell_type": "code",
   "execution_count": 4,
   "metadata": {
    "tags": []
   },
   "outputs": [
    {
     "output_type": "execute_result",
     "data": {
      "text/plain": "\"Alle Model wurden erfolgreich erstellt. Du findest sie im Ordner 'output/modelResults'.\""
     },
     "metadata": {},
     "execution_count": 4
    }
   ],
   "source": [
    "response = coins.operations.trainModels(translate=False, multiclass=False, split='mean', dropPercent=5)\n",
    "response"
   ]
  },
  {
   "cell_type": "markdown",
   "metadata": {},
   "source": [
    "# Calculate Correlations\n",
    "\n",
    "If you are more interested in the correlations obtained than in the ML models and automated predictions, you can use the function underneath to find and report on all significant correlations. You will find them as structured csv files in the directory 'output/correlations/'.\n",
    "\n",
    "The parameters of the function are equal to the parameters of the function above."
   ]
  },
  {
   "cell_type": "code",
   "execution_count": 5,
   "metadata": {},
   "outputs": [
    {
     "output_type": "execute_result",
     "data": {
      "text/plain": "\"Alle Correlationen wurden erfolgreich berechnet. Du findest sie im Ordner 'output/correlations'.\""
     },
     "metadata": {},
     "execution_count": 5
    }
   ],
   "source": [
    "response = coins.operations.calculateCorrelations(translate=False, multiclass=False, split='mean', dropPercent=5)\n",
    "response"
   ]
  },
  {
   "cell_type": "markdown",
   "metadata": {},
   "source": [
    "# Prediction\n",
    "\n",
    "You can get predictions for new user data. This user data (mainly 'ipip.csv' and 'images_v2.csv') must be placed in the directory 'input/prediction/'. There are no null values allowed.\n",
    "\n",
    "You are able to choose, which kind of data you want to get predicted. The possible options are:\n",
    "- Personality (dfPersonality)\n",
    "- Socio Demographics (dfSocioDemographics)\n",
    "- Image Ratings (dfImageRatings)\n",
    "- Image Descriptions (dfImageDescriptions)\n",
    "- Image Contents (dfImageContents)\n",
    "\n",
    "For the analysis of the Image Descriptions, again the API credentials for IBM Watson and DeepL are needed. This operation costs money."
   ]
  },
  {
   "cell_type": "code",
   "execution_count": 6,
   "metadata": {},
   "outputs": [
    {
     "output_type": "execute_result",
     "data": {
      "text/plain": "         human  animal  nature  mobility  child  food  0  1  2  3  ...  \\\nuser_id                                                            ...   \na            0       0       1         0      0     0  0  0  0  0  ...   \nb            0       0       0         0      0     0  0  0  0  0  ...   \n\n         utilization_translation_joyCategory  \\\nuser_id                                        \na                                        1.0   \nb                                        0.0   \n\n         utilization_translation_fearCategory  \\\nuser_id                                         \na                                         1.0   \nb                                         0.0   \n\n         utilization_translation_disgustCategory  \\\nuser_id                                            \na                                            0.0   \nb                                            0.0   \n\n         utilization_translation_angerCategory  \\\nuser_id                                          \na                                          1.0   \nb                                          1.0   \n\n         story_translation_sentimentCategory  \\\nuser_id                                        \na                                        1.0   \nb                                        1.0   \n\n         story_translation_sadnessCategory  story_translation_joyCategory  \\\nuser_id                                                                     \na                                      0.0                            0.0   \nb                                      0.0                            1.0   \n\n         story_translation_fearCategory  story_translation_disgustCategory  \\\nuser_id                                                                      \na                                   1.0                                1.0   \nb                                   0.0                                1.0   \n\n         story_translation_angerCategory  \nuser_id                                   \na                                    1.0  \nb                                    1.0  \n\n[2 rows x 258 columns]",
      "text/html": "<div>\n<style scoped>\n    .dataframe tbody tr th:only-of-type {\n        vertical-align: middle;\n    }\n\n    .dataframe tbody tr th {\n        vertical-align: top;\n    }\n\n    .dataframe thead th {\n        text-align: right;\n    }\n</style>\n<table border=\"1\" class=\"dataframe\">\n  <thead>\n    <tr style=\"text-align: right;\">\n      <th></th>\n      <th>human</th>\n      <th>animal</th>\n      <th>nature</th>\n      <th>mobility</th>\n      <th>child</th>\n      <th>food</th>\n      <th>0</th>\n      <th>1</th>\n      <th>2</th>\n      <th>3</th>\n      <th>...</th>\n      <th>utilization_translation_joyCategory</th>\n      <th>utilization_translation_fearCategory</th>\n      <th>utilization_translation_disgustCategory</th>\n      <th>utilization_translation_angerCategory</th>\n      <th>story_translation_sentimentCategory</th>\n      <th>story_translation_sadnessCategory</th>\n      <th>story_translation_joyCategory</th>\n      <th>story_translation_fearCategory</th>\n      <th>story_translation_disgustCategory</th>\n      <th>story_translation_angerCategory</th>\n    </tr>\n    <tr>\n      <th>user_id</th>\n      <th></th>\n      <th></th>\n      <th></th>\n      <th></th>\n      <th></th>\n      <th></th>\n      <th></th>\n      <th></th>\n      <th></th>\n      <th></th>\n      <th></th>\n      <th></th>\n      <th></th>\n      <th></th>\n      <th></th>\n      <th></th>\n      <th></th>\n      <th></th>\n      <th></th>\n      <th></th>\n      <th></th>\n    </tr>\n  </thead>\n  <tbody>\n    <tr>\n      <th>a</th>\n      <td>0</td>\n      <td>0</td>\n      <td>1</td>\n      <td>0</td>\n      <td>0</td>\n      <td>0</td>\n      <td>0</td>\n      <td>0</td>\n      <td>0</td>\n      <td>0</td>\n      <td>...</td>\n      <td>1.0</td>\n      <td>1.0</td>\n      <td>0.0</td>\n      <td>1.0</td>\n      <td>1.0</td>\n      <td>0.0</td>\n      <td>0.0</td>\n      <td>1.0</td>\n      <td>1.0</td>\n      <td>1.0</td>\n    </tr>\n    <tr>\n      <th>b</th>\n      <td>0</td>\n      <td>0</td>\n      <td>0</td>\n      <td>0</td>\n      <td>0</td>\n      <td>0</td>\n      <td>0</td>\n      <td>0</td>\n      <td>0</td>\n      <td>0</td>\n      <td>...</td>\n      <td>0.0</td>\n      <td>0.0</td>\n      <td>0.0</td>\n      <td>1.0</td>\n      <td>1.0</td>\n      <td>0.0</td>\n      <td>1.0</td>\n      <td>0.0</td>\n      <td>1.0</td>\n      <td>1.0</td>\n    </tr>\n  </tbody>\n</table>\n<p>2 rows × 258 columns</p>\n</div>"
     },
     "metadata": {},
     "execution_count": 6
    }
   ],
   "source": [
    "response = coins.operations.predictNewData(\"dfImageDescriptions\")\n",
    "response"
   ]
  },
  {
   "cell_type": "code",
   "execution_count": null,
   "metadata": {},
   "outputs": [],
   "source": []
  }
 ],
 "metadata": {
  "language_info": {
   "codemirror_mode": {
    "name": "ipython",
    "version": 3
   },
   "file_extension": ".py",
   "mimetype": "text/x-python",
   "name": "python",
   "nbconvert_exporter": "python",
   "pygments_lexer": "ipython3",
   "version": "3.7.7-final"
  },
  "orig_nbformat": 2,
  "kernelspec": {
   "name": "python_defaultSpec_1594379291378",
   "display_name": "Python 3.7.7 64-bit ('coins_test': conda)"
  }
 },
 "nbformat": 4,
 "nbformat_minor": 2
}