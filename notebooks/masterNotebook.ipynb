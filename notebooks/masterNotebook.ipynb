{
 "cells": [
  {
   "cell_type": "code",
   "execution_count": 1,
   "metadata": {},
   "outputs": [],
   "source": [
    "import coins"
   ]
  },
  {
   "cell_type": "markdown",
   "metadata": {},
   "source": [
    "# Loading and first Preprocessing of raw Data, Creation of customized DataFrames"
   ]
  },
  {
   "cell_type": "code",
   "execution_count": 2,
   "metadata": {},
   "outputs": [],
   "source": [
    "# LOAD RAW DATA\n",
    "ipip = coins.io.getPreprocessedRawData('ipip')\n",
    "mpzm = coins.io.getPreprocessedRawData('mpzm')\n",
    "mood = coins.io.getPreprocessedRawData('mood')\n",
    "images = coins.io.getPreprocessedRawData('images')\n",
    "sessions = coins.io.getPreprocessedRawData('sessions')\n",
    "imageLabels = coins.io.getPreprocessedRawData('imageLabels')"
   ]
  },
  {
   "cell_type": "code",
   "execution_count": 3,
   "metadata": {},
   "outputs": [],
   "source": [
    "# BUILD DEFINED DATAFRAMES\n",
    "dfPersonality = coins.dfcreation.createPersonality(ipip)\n",
    "dfImageDescriptions = coins.dfcreation.createImageDescriptions(images)\n",
    "dfImageRatings = coins.dfcreation.createImageRatings(images)\n",
    "dfSocioDemographics = coins.dfcreation.createSocioDemographics(ipip, mpzm, ipip, mood)\n",
    "dfImageLabels = imageLabels"
   ]
  },
  {
   "cell_type": "code",
   "execution_count": 4,
   "metadata": {},
   "outputs": [],
   "source": [
    "# SAVE DEFINED DATAFRAMES\n",
    "coins.io.saveInitialDFs(dfPersonality, 'personality')\n",
    "coins.io.saveInitialDFs(dfImageDescriptions, 'imageDescriptions')\n",
    "coins.io.saveInitialDFs(dfImageRatings, 'imageRatings')\n",
    "coins.io.saveInitialDFs(dfSocioDemographics, 'socioDemographics')\n",
    "coins.io.saveInitialDFs(dfImageLabels, 'imageLabels')"
   ]
  },
  {
   "cell_type": "markdown",
   "metadata": {},
   "source": [
    "# Special Preparation of dfImageDescriptions"
   ]
  },
  {
   "cell_type": "code",
   "execution_count": 6,
   "metadata": {},
   "outputs": [],
   "source": [
    "# LOAD DATAFRAME\n",
    "dfImageDescriptions = coins.io.loadInitialDFs('imageDescriptions')"
   ]
  },
  {
   "cell_type": "code",
   "execution_count": null,
   "metadata": {},
   "outputs": [],
   "source": [
    "# OPTION 1: Analyze and save imageDescriptions (needs credentials, costs money)\n",
    "dfImageDescriptions = translateToEnglish(dfImageDescriptions)\n",
    "dfImageDescriptions = coins.nluTranslation.analyzeEnglishSentimentAndEmotions(dfImageDescriptions)\n",
    "dfImageDescriptions = coins.nluTranslation.fillImageDescriptions(dfImageDescriptions)\n",
    "coins.io.savePreparedImageDescriptions(dfImageDescriptions)"
   ]
  },
  {
   "cell_type": "code",
   "execution_count": 5,
   "metadata": {},
   "outputs": [],
   "source": [
    "# OPTION 2: Load existing analyzed imageDescriptions\n",
    "dfImageDescriptions = coins.io.loadPreparedImageDescriptions()"
   ]
  },
  {
   "cell_type": "markdown",
   "metadata": {},
   "source": [
    "# Check for significant Correlations between all 5 DataFrames"
   ]
  },
  {
   "cell_type": "code",
   "execution_count": 9,
   "metadata": {},
   "outputs": [],
   "source": [
    "# LOAD DATAFRAMES\n",
    "dfPersonality = coins.io.loadInitialDFs('personality')\n",
    "dfImageRatings = coins.io.loadInitialDFs('imageRatings')\n",
    "dfSocioDemographics = coins.io.loadInitialDFs('socioDemographics')\n",
    "dfImageLabels = coins.io.loadInitialDFs('imageLabels')\n",
    "dfImageDescriptions = coins.io.loadPreparedImageDescriptions()"
   ]
  },
  {
   "cell_type": "code",
   "execution_count": 7,
   "metadata": {},
   "outputs": [],
   "source": [
    "dfPersonality = coins.correlation.preparePersonality(dfPersonality, multiclass=False, split='median')"
   ]
  },
  {
   "cell_type": "markdown",
   "metadata": {},
   "source": [
    "### SocioDemographics\n",
    "\n"
   ]
  },
  {
   "cell_type": "markdown",
   "metadata": {},
   "source": [
    "The number defines how much percentage a value of a categorical varable need to be keept.\n",
    "All values under this percentage will be droped"
   ]
  },
  {
   "cell_type": "code",
   "execution_count": 8,
   "metadata": {},
   "outputs": [
    {
     "data": {
      "text/plain": "['gender_n',\n 'country_AD',\n 'country_AF',\n 'country_AG',\n 'country_AL',\n 'country_AM',\n 'country_AO',\n 'country_AQ',\n 'country_AR',\n 'country_AS',\n 'country_AW',\n 'country_AX',\n 'country_BA',\n 'country_BE',\n 'country_BG',\n 'country_BO',\n 'country_BR',\n 'country_BS',\n 'country_CA',\n 'country_CD',\n 'country_CF',\n 'country_CI',\n 'country_CL',\n 'country_CM',\n 'country_CN',\n 'country_CO',\n 'country_CZ',\n 'country_DK',\n 'country_DO',\n 'country_DZ',\n 'country_EC',\n 'country_EE',\n 'country_EG',\n 'country_ER',\n 'country_ES',\n 'country_Europäische Union',\n 'country_FI',\n 'country_FM',\n 'country_FR',\n 'country_GB',\n 'country_GE',\n 'country_GH',\n 'country_GR',\n 'country_HR',\n 'country_HU',\n 'country_ID',\n 'country_IE',\n 'country_IN',\n 'country_IQ',\n 'country_IR',\n 'country_JM',\n 'country_JP',\n 'country_KH',\n 'country_KR',\n 'country_LB',\n 'country_LI',\n 'country_LK',\n 'country_LT',\n 'country_LU',\n 'country_LV',\n 'country_ME',\n 'country_MK',\n 'country_MU',\n 'country_MX',\n 'country_Mazedonien [EJR]',\n 'country_Metropolitan-Frankreich',\n 'country_NG',\n 'country_NL',\n 'country_NP',\n 'country_PA',\n 'country_PE',\n 'country_PH',\n 'country_PK',\n 'country_PL',\n 'country_PT',\n 'country_RO',\n 'country_RS',\n 'country_RU',\n 'country_SE',\n 'country_SI',\n 'country_SK',\n 'country_SO',\n 'country_SY',\n 'country_Serbien und Montenegro',\n 'country_TG',\n 'country_TH',\n 'country_TM',\n 'country_TN',\n 'country_TR',\n 'country_TW',\n 'country_UA',\n 'country_UG',\n 'country_US',\n 'country_UZ',\n 'country_VE',\n 'country_VI',\n 'country_VN',\n 'country_Vereinigte Staaten',\n 'country_XK',\n 'country_ZA',\n 'job_sector_Bergbau und Gewinnung von Steinen und Erden',\n 'job_sector_Energie und Wasser (Alte Plattform)',\n 'job_sector_Grundstücks- und Wohnungswesen',\n 'job_sector_Kunst, Unterhaltung und Erholung',\n 'job_sector_Land- und Forstwirtschaft, Fischerei',\n 'job_sector_Wasserversorgung; Abwasser- und Abfallentsorgung und Beseitigung von Umweltverschmutzungen',\n 'educational_achievement_1-jährige Vorlehre, 1-jährige allgemeinbildende Schule, 10. Schuljahr',\n 'educational_achievement_bis maximal 7 Jahre obligatorische Schule',\n 'educational_achievement_kein Bildungsabschluss']"
     },
     "execution_count": 8,
     "metadata": {},
     "output_type": "execute_result"
    }
   ],
   "source": [
    "dfSocialDemographicsDummies,dfSocialDemographicsDummiesWithID,dropedColumnsList = coins.correlation.prepare_SocioDemographics(dfSocioDemographics,1)\n",
    "dropedColumnsList"
   ]
  },
  {
   "cell_type": "code",
   "execution_count": null,
   "metadata": {},
   "outputs": [],
   "source": []
  }
 ],
 "metadata": {
  "language_info": {
   "codemirror_mode": {
    "name": "ipython",
    "version": 3
   },
   "file_extension": ".py",
   "mimetype": "text/x-python",
   "name": "python",
   "nbconvert_exporter": "python",
   "pygments_lexer": "ipython3",
   "version": "3.7.7-final"
  },
  "orig_nbformat": 2,
  "kernelspec": {
   "name": "python37764bitcoinsconda164a24dc70bc4ad28fd233035de8d097",
   "display_name": "Python 3.7.7 64-bit ('coins': conda)"
  }
 },
 "nbformat": 4,
 "nbformat_minor": 2
}