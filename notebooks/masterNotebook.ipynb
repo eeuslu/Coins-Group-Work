{
 "cells": [
  {
   "cell_type": "code",
   "execution_count": 13,
   "metadata": {},
   "outputs": [],
   "source": [
    "import coins"
   ]
  },
  {
   "cell_type": "markdown",
   "metadata": {},
   "source": [
    "# Loading and first Preprocessing of raw Data, Creation of customized DataFrames"
   ]
  },
  {
   "cell_type": "code",
   "execution_count": 6,
   "metadata": {},
   "outputs": [],
   "source": [
    "# LOAD RAW DATA\n",
    "ipip = coins.io.getPreprocessedRawData('ipip')\n",
    "mpzm = coins.io.getPreprocessedRawData('mpzm')\n",
    "mood = coins.io.getPreprocessedRawData('mood')\n",
    "images = coins.io.getPreprocessedRawData('images')\n",
    "sessions = coins.io.getPreprocessedRawData('sessions')\n",
    "imageLabels = coins.io.getPreprocessedRawData('imageLabels')"
   ]
  },
  {
   "cell_type": "code",
   "execution_count": 7,
   "metadata": {},
   "outputs": [],
   "source": [
    "# BUILD DEFINED DATAFRAMES\n",
    "dfPersonality = coins.dfcreation.createPersonality(ipip)\n",
    "dfImageDescriptions = coins.dfcreation.createImageDescriptions(images)\n",
    "dfImageRatings = coins.dfcreation.createImageRatings(images)\n",
    "dfSocioDemographics = coins.dfcreation.createSocioDemographics(ipip, mpzm, ipip, mood)\n",
    "dfImageContents = coins.dfcreation.createImageContents(images, imageLabels)"
   ]
  },
  {
   "cell_type": "code",
   "execution_count": 8,
   "metadata": {},
   "outputs": [],
   "source": [
    "# SAVE DEFINED DATAFRAMES\n",
    "coins.io.saveInitialDFs(dfPersonality, 'personality')\n",
    "coins.io.saveInitialDFs(dfImageDescriptions, 'imageDescriptions')\n",
    "coins.io.saveInitialDFs(dfImageRatings, 'imageRatings')\n",
    "coins.io.saveInitialDFs(dfSocioDemographics, 'socioDemographics')\n",
    "coins.io.saveInitialDFs(dfImageContents, 'imageContents')"
   ]
  },
  {
   "cell_type": "markdown",
   "metadata": {},
   "source": [
    "# Special Preparation of dfImageDescriptions"
   ]
  },
  {
   "cell_type": "code",
   "execution_count": 6,
   "metadata": {},
   "outputs": [],
   "source": [
    "# LOAD DATAFRAME\n",
    "dfImageDescriptions = coins.io.loadInitialDFs('imageDescriptions')"
   ]
  },
  {
   "cell_type": "code",
   "execution_count": null,
   "metadata": {},
   "outputs": [],
   "source": [
    "# OPTION 1: Analyze and save imageDescriptions (needs credentials, costs money)\n",
    "dfImageDescriptions = translateToEnglish(dfImageDescriptions)\n",
    "dfImageDescriptions = coins.nluTranslation.analyzeEnglishSentimentAndEmotions(dfImageDescriptions)\n",
    "dfImageDescriptions = coins.nluTranslation.fillImageDescriptions(dfImageDescriptions)\n",
    "coins.io.saveAnalyzedImageDescriptions(dfImageDescriptions)"
   ]
  },
  {
   "cell_type": "code",
   "execution_count": 9,
   "metadata": {},
   "outputs": [],
   "source": [
    "# OPTION 2: Load existing analyzed imageDescriptions\n",
    "dfImageDescriptions = coins.io.loadAnalyzedImageDescriptions()"
   ]
  },
  {
   "cell_type": "markdown",
   "metadata": {},
   "source": [
    "# Check for significant Correlations between all 5 DataFrames"
   ]
  },
  {
   "cell_type": "code",
   "execution_count": 3,
   "metadata": {},
   "outputs": [],
   "source": [
    "# LOAD DATAFRAMES\n",
    "dfPersonality = coins.io.loadInitialDFs('personality')\n",
    "dfImageRatings = coins.io.loadInitialDFs('imageRatings')\n",
    "dfSocioDemographics = coins.io.loadInitialDFs('socioDemographics')\n",
    "dfImageContents = coins.io.loadInitialDFs('imageContents')\n",
    "dfImageDescriptions = coins.io.loadAnalyzedImageDescriptions()"
   ]
  },
  {
   "cell_type": "code",
   "execution_count": 4,
   "metadata": {},
   "outputs": [],
   "source": [
    "# PREPARE DATAFRAME VALUES\n",
    "dfPersonality = coins.correlation.preparePersonality(dfPersonality, multiclass=False, split='mean')\n",
    "dfImageDescriptions = coins.correlation.prepareImageDescriptions(dfImageDescriptions, multiclass=False, split='median')\n",
    "dfSocioDemographics, dropList = coins.correlation.prepareSocioDemographics(dfSocioDemographics, 1)"
   ]
  },
  {
   "cell_type": "code",
   "execution_count": 6,
   "metadata": {},
   "outputs": [],
   "source": [
    "# CALCULATE CORRELATIONS AND P-VALUES\n",
    "_, _, _, pPersonalitySocioDemographics, cPersonalitySocioDemographics = coins.correlation.calculateCorrWithPValue(dfPersonality, dfSocioDemographics)\n",
    "_, _, _, pPersonalityImageDescriptions, cPersonalityImageDescriptions = coins.correlation.calculateCorrWithPValue(dfPersonality, dfImageDescriptions)\n",
    "_, _, _, pPersonalityImageRatings, cPersonalityImageRatings = coins.correlation.calculateCorrWithPValue(dfPersonality, dfImageRatings)\n",
    "_, _, _, pSocioDemographicsImageDescriptions, cSocioDemographicsImageDescriptions = coins.correlation.calculateCorrWithPValue(dfSocioDemographics, dfImageDescriptions)\n",
    "_, _, _, pSocioDemographicsImageRatings, cSocioDemographicsImageRatings = coins.correlation.calculateCorrWithPValue(dfSocioDemographics, dfImageRatings)\n",
    "_, _, _, pImageDescriptionsImageRatings, cImageDescriptionsImageRatings = coins.correlation.calculateCorrWithPValue(dfImageDescriptions, dfImageRatings)\n",
    "_, _, _, pImageContentsSocioDemographics, cImageContentsSocioDemographics = coins.correlation.calculateCorrWithPValue(dfImageContents, dfSocioDemographics)\n",
    "_, _, _, pImageContentsImageDescriptions, cImageContentsImageDescriptions = coins.correlation.calculateCorrWithPValue(dfImageContents, dfImageDescriptions)\n",
    "_, _, _, pImageContentsImageRatings, cImageContentsImageRatings = coins.correlation.calculateCorrWithPValue(dfImageContents, dfImageRatings)\n",
    "_, _, _, pImageContentsPersonality, cImageContentsPersonality = coins.correlation.calculateCorrWithPValue(dfImageContents, dfPersonality)"
   ]
  },
  {
   "cell_type": "code",
   "execution_count": 7,
   "metadata": {},
   "outputs": [],
   "source": [
    "# EXTRACT SIGNIFICANT CORRELATIONS\n",
    "sPersonalitySocioDemographics = coins.correlation.extractSignificantCorrelations(pPersonalitySocioDemographics, cPersonalitySocioDemographics)\n",
    "sPersonalityImageDescriptions = coins.correlation.extractSignificantCorrelations(pPersonalityImageDescriptions, cPersonalityImageDescriptions)\n",
    "sPersonalityImageRatings = coins.correlation.extractSignificantCorrelations(pPersonalityImageRatings, cPersonalityImageRatings)\n",
    "sSocioDemographicsImageDescriptions = coins.correlation.extractSignificantCorrelations(pSocioDemographicsImageDescriptions, cSocioDemographicsImageDescriptions)\n",
    "sSocioDemographicsImageRatings = coins.correlation.extractSignificantCorrelations(pSocioDemographicsImageRatings, cSocioDemographicsImageRatings)\n",
    "sImageDescriptionsImageRatings = coins.correlation.extractSignificantCorrelations(pImageDescriptionsImageRatings, cImageDescriptionsImageRatings)\n",
    "sImageContentsSocioDemographics = coins.correlation.extractSignificantCorrelations(pImageContentsSocioDemographics, cImageContentsSocioDemographics)\n",
    "sImageContentsImageDescriptions = coins.correlation.extractSignificantCorrelations(pImageContentsImageDescriptions, cImageContentsImageDescriptions)\n",
    "sImageContentsImageRatings = coins.correlation.extractSignificantCorrelations(pImageContentsImageRatings, cImageContentsImageRatings)\n",
    "sImageContentsPersonality = coins.correlation.extractSignificantCorrelations(pImageContentsPersonality, cImageContentsPersonality)"
   ]
  },
  {
   "cell_type": "code",
   "execution_count": 8,
   "metadata": {},
   "outputs": [],
   "source": [
    "# SAVE SIGNIFICANT CORRELATIONS\n",
    "coins.io.saveSignificantCorrelations(sPersonalitySocioDemographics, 'personality_socioDemographics')\n",
    "coins.io.saveSignificantCorrelations(sPersonalityImageDescriptions, 'personality_imageDescriptions')\n",
    "coins.io.saveSignificantCorrelations(sPersonalityImageRatings, 'personality_imageRatings')\n",
    "coins.io.saveSignificantCorrelations(sSocioDemographicsImageDescriptions, 'socioDemographics_imageDescriptions')\n",
    "coins.io.saveSignificantCorrelations(sSocioDemographicsImageRatings, 'imageRatings_socioDemographics')\n",
    "coins.io.saveSignificantCorrelations(sImageDescriptionsImageRatings, 'imageDescriptions_imageRatings')\n",
    "coins.io.saveSignificantCorrelations(sImageContentsSocioDemographics, 'imageContents_socioDemographics')\n",
    "coins.io.saveSignificantCorrelations(sImageContentsImageDescriptions, 'imageContents_imageDescriptions')\n",
    "coins.io.saveSignificantCorrelations(sImageContentsImageRatings, 'imageContents_imageRatings')\n",
    "coins.io.saveSignificantCorrelations(sImageContentsPersonality, 'imageContents_personality')"
   ]
  },
  {
   "cell_type": "code",
   "execution_count": 9,
   "metadata": {},
   "outputs": [],
   "source": [
    "# SAVE PREPARED DATAFRAMES\n",
    "coins.io.savePreparedDFs(dfPersonality, 'personality')\n",
    "coins.io.savePreparedDFs(dfImageDescriptions, 'imageDescriptions')\n",
    "coins.io.savePreparedDFs(dfSocioDemographics, 'socioDemographics')\n",
    "coins.io.savePreparedDFs(dfImageRatings, 'imageRatings')\n",
    "coins.io.savePreparedDFs(dfImageContents, 'imageContents')"
   ]
  },
  {
   "cell_type": "markdown",
   "metadata": {},
   "source": [
    "# Find best Predictions"
   ]
  },
  {
   "cell_type": "code",
   "execution_count": 3,
   "metadata": {},
   "outputs": [],
   "source": [
    "# LOAD PREPARED DATAFRAMES\n",
    "dfPersonality = coins.io.loadPreparedDFs('personality')\n",
    "dfImageRatings = coins.io.loadPreparedDFs('imageRatings')\n",
    "dfSocioDemographics = coins.io.loadPreparedDFs('socioDemographics')\n",
    "dfImageContents = coins.io.loadPreparedDFs('imageContents')\n",
    "dfImageDescriptions = coins.io.loadPreparedDFs('imageDescriptions')"
   ]
  },
  {
   "cell_type": "code",
   "execution_count": 7,
   "metadata": {
    "tags": []
   },
   "outputs": [
    {
     "output_type": "stream",
     "name": "stdout",
     "text": "completed: neurotizismusCategory\ncompleted: extraversionCategory\ncompleted: offenheitCategory\ncompleted: vertraeglichkeitCategory\ncompleted: gewissenhaftigkeitCategory\n"
    },
    {
     "output_type": "execute_result",
     "data": {
      "text/plain": "                TargetFeature  \\\n0       neurotizismusCategory   \n1        extraversionCategory   \n2           offenheitCategory   \n3    vertraeglichkeitCategory   \n4  gewissenhaftigkeitCategory   \n\n                                        InputFeature  \\\n0  job_status_edu_parttime| educational_achieveme...   \n1  job_status_edu_parttime| work_district_LU| job...   \n2  company_size_250.0| educational_achievement_Be...   \n3  job_sector_Gastgewerbe/Beherbergung und Gastro...   \n4  job_status_edu_parttime| registration_ageKat_5...   \n\n                 BestAlgorithm       R^2  Accuracy  \n0    KNN Classifier, Degree: 1  0.250000  0.814815  \n1    KNN Classifier, Degree: 2  0.226190  0.807692  \n2          Logistic Regression  0.041667  0.782609  \n3  SVC (polynomial), Degree: 1 -0.050000  0.740741  \n4                 SVC (linear) -0.335165  0.666667  ",
      "text/html": "<div>\n<style scoped>\n    .dataframe tbody tr th:only-of-type {\n        vertical-align: middle;\n    }\n\n    .dataframe tbody tr th {\n        vertical-align: top;\n    }\n\n    .dataframe thead th {\n        text-align: right;\n    }\n</style>\n<table border=\"1\" class=\"dataframe\">\n  <thead>\n    <tr style=\"text-align: right;\">\n      <th></th>\n      <th>TargetFeature</th>\n      <th>InputFeature</th>\n      <th>BestAlgorithm</th>\n      <th>R^2</th>\n      <th>Accuracy</th>\n    </tr>\n  </thead>\n  <tbody>\n    <tr>\n      <th>0</th>\n      <td>neurotizismusCategory</td>\n      <td>job_status_edu_parttime| educational_achieveme...</td>\n      <td>KNN Classifier, Degree: 1</td>\n      <td>0.250000</td>\n      <td>0.814815</td>\n    </tr>\n    <tr>\n      <th>1</th>\n      <td>extraversionCategory</td>\n      <td>job_status_edu_parttime| work_district_LU| job...</td>\n      <td>KNN Classifier, Degree: 2</td>\n      <td>0.226190</td>\n      <td>0.807692</td>\n    </tr>\n    <tr>\n      <th>2</th>\n      <td>offenheitCategory</td>\n      <td>company_size_250.0| educational_achievement_Be...</td>\n      <td>Logistic Regression</td>\n      <td>0.041667</td>\n      <td>0.782609</td>\n    </tr>\n    <tr>\n      <th>3</th>\n      <td>vertraeglichkeitCategory</td>\n      <td>job_sector_Gastgewerbe/Beherbergung und Gastro...</td>\n      <td>SVC (polynomial), Degree: 1</td>\n      <td>-0.050000</td>\n      <td>0.740741</td>\n    </tr>\n    <tr>\n      <th>4</th>\n      <td>gewissenhaftigkeitCategory</td>\n      <td>job_status_edu_parttime| registration_ageKat_5...</td>\n      <td>SVC (linear)</td>\n      <td>-0.335165</td>\n      <td>0.666667</td>\n    </tr>\n  </tbody>\n</table>\n</div>"
     },
     "metadata": {},
     "execution_count": 7
    }
   ],
   "source": [
    "result = coins.classification.findBestClassifier([dfSocioDemographics, dfImageContents, dfImageRatings], dfPersonality, \"dfPersonality\", inputFeatureCombination=False, printProgress=True)\n",
    "result"
   ]
  },
  {
   "cell_type": "code",
   "execution_count": null,
   "metadata": {},
   "outputs": [],
   "source": []
  },
  {
   "cell_type": "code",
   "execution_count": null,
   "metadata": {},
   "outputs": [],
   "source": []
  }
 ],
 "metadata": {
  "language_info": {
   "codemirror_mode": {
    "name": "ipython",
    "version": 3
   },
   "file_extension": ".py",
   "mimetype": "text/x-python",
   "name": "python",
   "nbconvert_exporter": "python",
   "pygments_lexer": "ipython3",
   "version": "3.8.2-final"
  },
  "orig_nbformat": 2,
  "kernelspec": {
   "name": "python38264bitconda5d068ef3ed9647998952984165c96eb8",
   "display_name": "Python 3.8.2 64-bit (conda)"
  }
 },
 "nbformat": 4,
 "nbformat_minor": 2
}