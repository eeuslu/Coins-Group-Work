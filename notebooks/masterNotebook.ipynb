{
 "cells": [
  {
   "cell_type": "code",
   "execution_count": 1,
   "metadata": {},
   "outputs": [],
   "source": [
    "import coins\n",
    "import time"
   ]
  },
  {
   "cell_type": "markdown",
   "metadata": {},
   "source": [
    "# Loading and first Preprocessing of raw Data, Creation of customized DataFrames"
   ]
  },
  {
   "cell_type": "code",
   "execution_count": 2,
   "metadata": {},
   "outputs": [],
   "source": [
    "# LOAD RAW DATA\n",
    "ipip = coins.io.getPreprocessedRawData('ipip')\n",
    "mpzm = coins.io.getPreprocessedRawData('mpzm')\n",
    "mood = coins.io.getPreprocessedRawData('mood')\n",
    "images = coins.io.getPreprocessedRawData('images')\n",
    "sessions = coins.io.getPreprocessedRawData('sessions')\n",
    "imageLabels = coins.io.getPreprocessedRawData('imageLabels')"
   ]
  },
  {
   "cell_type": "code",
   "execution_count": 3,
   "metadata": {},
   "outputs": [],
   "source": [
    "# BUILD DEFINED DATAFRAMES\n",
    "dfPersonality = coins.dfcreation.createPersonality(ipip)\n",
    "dfImageDescriptions = coins.dfcreation.createImageDescriptions(images)\n",
    "dfImageRatings = coins.dfcreation.createImageRatings(images)\n",
    "dfSocioDemographics = coins.dfcreation.createSocioDemographics(ipip, mpzm, ipip, mood)\n",
    "dfImageLabels = imageLabels"
   ]
  },
  {
   "cell_type": "code",
   "execution_count": 4,
   "metadata": {},
   "outputs": [],
   "source": [
    "# SAVE DEFINED DATAFRAMES\n",
    "coins.io.saveInitialDFs(dfPersonality, 'personality')\n",
    "coins.io.saveInitialDFs(dfImageDescriptions, 'imageDescriptions')\n",
    "coins.io.saveInitialDFs(dfImageRatings, 'imageRatings')\n",
    "coins.io.saveInitialDFs(dfSocioDemographics, 'socioDemographics')\n",
    "coins.io.saveInitialDFs(dfImageLabels, 'imageLabels')"
   ]
  },
  {
   "cell_type": "markdown",
   "metadata": {},
   "source": [
    "# Special Preparation of dfImageDescriptions"
   ]
  },
  {
   "cell_type": "code",
   "execution_count": 6,
   "metadata": {},
   "outputs": [],
   "source": [
    "# LOAD DATAFRAME\n",
    "dfImageDescriptions = coins.io.loadInitialDFs('imageDescriptions')"
   ]
  },
  {
   "cell_type": "code",
   "execution_count": null,
   "metadata": {},
   "outputs": [],
   "source": [
    "# OPTION 1: Analyze and save imageDescriptions (needs credentials, costs money)\n",
    "dfImageDescriptions = translateToEnglish(dfImageDescriptions)\n",
    "dfImageDescriptions = coins.nluTranslation.analyzeEnglishSentimentAndEmotions(dfImageDescriptions)\n",
    "dfImageDescriptions = coins.nluTranslation.fillImageDescriptions(dfImageDescriptions)\n",
    "coins.io.savePreparedImageDescriptions(dfImageDescriptions)"
   ]
  },
  {
   "cell_type": "code",
   "execution_count": 4,
   "metadata": {},
   "outputs": [],
   "source": [
    "# OPTION 2: Load existing analyzed imageDescriptions\n",
    "dfImageDescriptions = coins.io.loadPreparedImageDescriptions()"
   ]
  },
  {
   "cell_type": "markdown",
   "metadata": {},
   "source": [
    "# Check for significant Correlations between all 5 DataFrames"
   ]
  },
  {
   "cell_type": "code",
   "execution_count": 2,
   "metadata": {},
   "outputs": [],
   "source": [
    "# LOAD DATAFRAMES\n",
    "dfPersonality = coins.io.loadInitialDFs('personality')\n",
    "dfImageRatings = coins.io.loadInitialDFs('imageRatings')\n",
    "dfSocioDemographics = coins.io.loadInitialDFs('socioDemographics')\n",
    "dfImageLabels = coins.io.loadInitialDFs('imageLabels')\n",
    "dfImageDescriptions = coins.io.loadAnalyzedImageDescriptions()"
   ]
  },
  {
   "cell_type": "code",
   "execution_count": 3,
   "metadata": {},
   "outputs": [],
   "source": [
    "# PREPARE DATAFRAME VALUES\n",
    "dfPersonality = coins.correlation.preparePersonality(dfPersonality, multiclass=False, split='mean')\n",
    "dfImageDescriptions = coins.correlation.prepareImageDescriptions(dfImageDescriptions, multiclass=False, split='median')\n",
    "dfSocioDemographics, dropList = coins.correlation.prepareSocioDemographics(dfSocioDemographics, 1)"
   ]
  },
  {
   "cell_type": "code",
   "execution_count": 4,
   "metadata": {},
   "outputs": [],
   "source": [
    "# CALCULATE CORRELATIONS AND P-VALUES\n",
    "_, _, _, pPersonalitySocioDemographics, cPersonalitySocioDemographics = coins.correlation.calculateCorrWithPValue(dfPersonality, dfSocioDemographics)\n",
    "_, _, _, pPersonalityImageDescriptions, cPersonalityImageDescriptions = coins.correlation.calculateCorrWithPValue(dfPersonality, dfImageDescriptions)\n",
    "_, _, _, pPersonalityImageRatings, cPersonalityImageRatings = coins.correlation.calculateCorrWithPValue(dfPersonality, dfImageRatings)\n",
    "_, _, _, pSocioDemographicsImageDescriptions, cSocioDemographicsImageDescriptions = coins.correlation.calculateCorrWithPValue(dfSocioDemographics, dfImageDescriptions)\n",
    "_, _, _, pSocioDemographicsImageRatings, cSocioDemographicsImageRatings = coins.correlation.calculateCorrWithPValue(dfSocioDemographics, dfImageRatings)\n",
    "_, _, _, pImageDescriptionsImageRatings, cImageDescriptionsImageRatings = coins.correlation.calculateCorrWithPValue(dfImageDescriptions, dfImageRatings)"
   ]
  },
  {
   "cell_type": "code",
   "execution_count": 5,
   "metadata": {},
   "outputs": [],
   "source": [
    "# SAVE CORRELATIONS AND P-VALUES\n",
    "coins.io.saveCorrelations(cPersonalitySocioDemographics, pPersonalitySocioDemographics, 'personality_socioDemographics')\n",
    "coins.io.saveCorrelations(cPersonalityImageDescriptions, pPersonalityImageDescriptions, 'personality_imageDescriptions')\n",
    "coins.io.saveCorrelations(cPersonalityImageRatings, pPersonalityImageRatings, 'personality_imageRatings')\n",
    "coins.io.saveCorrelations(cSocioDemographicsImageDescriptions, pSocioDemographicsImageDescriptions, 'socioDemographics_imageDescriptions')\n",
    "coins.io.saveCorrelations(cSocioDemographicsImageRatings, pSocioDemographicsImageRatings, 'imageRatings_socioDemographics')\n",
    "coins.io.saveCorrelations(cImageDescriptionsImageRatings, pImageDescriptionsImageRatings, 'imageDescriptions_imageRatings')"
   ]
  },
  {
   "cell_type": "markdown",
   "metadata": {},
   "source": [
    "# Find best Predictions"
   ]
  },
  {
   "cell_type": "code",
   "execution_count": 7,
   "metadata": {},
   "outputs": [],
   "source": [
    "# LOAD DATAFRAMES\n",
    "dfPersonality = coins.io.loadInitialDFs('personality')\n",
    "dfImageRatings = coins.io.loadInitialDFs('imageRatings')\n",
    "dfSocioDemographics = coins.io.loadInitialDFs('socioDemographics')\n",
    "dfImageLabels = coins.io.loadInitialDFs('imageLabels')\n",
    "dfImageDescriptions = coins.io.loadPreparedImageDescriptions()"
   ]
  },
  {
   "cell_type": "code",
   "execution_count": 8,
   "metadata": {},
   "outputs": [],
   "source": [
    "# PREPARE DATAFRAME VALUES\n",
    "dfPersonality = coins.correlation.preparePersonality(dfPersonality, multiclass=False, split='mean')\n",
    "dfImageDescriptions = coins.correlation.prepareImageDescriptions(dfImageDescriptions, multiclass=False, split='median')\n",
    "dfSocioDemographics, dropList = coins.correlation.prepareSocioDemographics(dfSocioDemographics, 1)"
   ]
  },
  {
   "cell_type": "code",
   "execution_count": 12,
   "metadata": {},
   "outputs": [
    {
     "output_type": "stream",
     "name": "stdout",
     "text": "completed: registration_age\ncompleted: job_status_edu_parttime\ncompleted: job_status_edu_fulltime\ncompleted: job_status_employed_parttime\ncompleted: job_status_employed_fulltime\ncompleted: job_status_selfemployed\ncompleted: job_status_houskeeping\ncompleted: job_status_unemployed\ncompleted: gender_f\ncompleted: gender_m\ncompleted: registration_ageKat_10-19\ncompleted: registration_ageKat_20-29\ncompleted: registration_ageKat_30-39\ncompleted: registration_ageKat_40-49\ncompleted: registration_ageKat_50-59\ncompleted: country_AT\ncompleted: country_CH\ncompleted: country_DE\ncompleted: country_IT\ncompleted: work_country_CH\ncompleted: work_country_DE\ncompleted: work_district_AG\ncompleted: work_district_BE\ncompleted: work_district_BL\ncompleted: work_district_BS\ncompleted: work_district_GR\ncompleted: work_district_HE\ncompleted: work_district_LU\ncompleted: work_district_NI\ncompleted: work_district_NW\ncompleted: work_district_SG\ncompleted: work_district_SO\ncompleted: work_district_TG\ncompleted: work_district_ZG\ncompleted: work_district_ZH\ncompleted: job_position_Fachspezialist/-in\ncompleted: job_position_Sachbearbeiter/-in\ncompleted: job_position_mittlere Führungsstufe (z.B. Abteilungs- / Bereichsleitung)\ncompleted: job_position_obere Führungsstufe (z.B. Geschäftsleitung / CEO)\ncompleted: job_position_untere Führungsstufe (z.B. Teamleitung)\ncompleted: job_sector_Baugewerbe/Bau\ncompleted: job_sector_Energieversorgung\ncompleted: job_sector_Erbringung von Finanz- und Versicherungsdienstleistungen\ncompleted: job_sector_Erbringung von freiberuflichen, wissenschaftlichen und technischen Dienstleistungen\ncompleted: job_sector_Erbringung von sonstigen Dienstleistungen\ncompleted: job_sector_Erbringung von sonstigen wirtschaftlichen Dienstleistungen\ncompleted: job_sector_Erziehung und Unterricht\ncompleted: job_sector_Gastgewerbe/Beherbergung und Gastronomie\ncompleted: job_sector_Gesundheits- und Sozialwesen\ncompleted: job_sector_Handel; Instandhaltung und Reparatur von Kraftfahrzeugen\ncompleted: job_sector_Information und Kommunikation\ncompleted: job_sector_Kunst, Unterhaltung und Erholung\ncompleted: job_sector_Verarbeitendes Gewerbe/Herstellung von Waren\ncompleted: job_sector_Verkehr und Lagerei\ncompleted: job_sector_Öffentliche Verwaltung, Verteidigung; Sozialversicherung\ncompleted: company_size_1.0\ncompleted: company_size_249.0\ncompleted: company_size_250.0\ncompleted: company_size_49.0\ncompleted: company_size_9.0\ncompleted: educational_achievement_2- bis 3-jährige Diplommittelschule, Verkehrsschule, Fachmittelschule FMS\ncompleted: educational_achievement_Bachelor\ncompleted: educational_achievement_Berufliche Grundbildung\ncompleted: educational_achievement_Berufs- oder Fachmaturität\ncompleted: educational_achievement_Doktorat, Habilitation\ncompleted: educational_achievement_Gymnasiale Maturität, Lehrkräfte-Seminar\ncompleted: educational_achievement_Höhere Fach- und Berufsausbildung mit eidg. Fachausweis, eidg. Diplom oder Meisterdiplom, Höhere Fachschule für Technik\ncompleted: educational_achievement_Höhere Fachschule lusive Nachdiplome\ncompleted: educational_achievement_Master, Lizentiat, Diplom, Staatsexamen, Nachdiplom\ncompleted: educational_achievement_obligatorische Schule\n--- 18.10681986808777 seconds ---\n"
    },
    {
     "output_type": "execute_result",
     "data": {
      "text/plain": "                                        TargetFeature  \\\n0                                    registration_age   \n1                             job_status_edu_parttime   \n2                             job_status_edu_fulltime   \n3                        job_status_employed_parttime   \n4                        job_status_employed_fulltime   \n..                                                ...   \n65  educational_achievement_Gymnasiale Maturität, ...   \n66  educational_achievement_Höhere Fach- und Beruf...   \n67  educational_achievement_Höhere Fachschule lusi...   \n68  educational_achievement_Master, Lizentiat, Dip...   \n69      educational_achievement_obligatorische Schule   \n\n                                         InputFeature  \\\n0   reasons_translation_joyCategory| reasons_trans...   \n1   neurotizismusCategory| extraversionCategory| g...   \n2            no input feature with p-value below 0.05   \n3            no input feature with p-value below 0.05   \n4   strengths_translation_sadnessCategory| strengt...   \n..                                                ...   \n65           no input feature with p-value below 0.05   \n66  gewissenhaftigkeitCategory| story_translation_...   \n67                utilization_translation_joyCategory   \n68  emotions_translation_joyCategory| strengths_tr...   \n69           no input feature with p-value below 0.05   \n\n                BestAlgorithm        R^2  Accuracy  \\\n0        Gaussian Naive Bayes  -0.100981  0.178571   \n1         Logistic Regression  -0.555556  0.642857   \n2                           -          -         -   \n3                           -          -         -   \n4         Logistic Regression  -0.166667  0.714286   \n..                        ...        ...       ...   \n65                          -          -         -   \n66        Logistic Regression  -0.333333      0.75   \n67        Logistic Regression -0.0769231  0.928571   \n68  KNN Classifier, Degree: 6  -0.166667  0.857143   \n69                          -          -         -   \n\n                                                Model  \\\n0        GaussianNB(priors=None, var_smoothing=1e-09)   \n1   LogisticRegression(C=1.0, class_weight=None, d...   \n2                                                   -   \n3                                                   -   \n4   LogisticRegression(C=1.0, class_weight=None, d...   \n..                                                ...   \n65                                                  -   \n66  LogisticRegression(C=1.0, class_weight=None, d...   \n67  LogisticRegression(C=1.0, class_weight=None, d...   \n68  KNeighborsClassifier(algorithm='auto', leaf_si...   \n69                                                  -   \n\n                                                  PCA  \\\n0   PCA(copy=True, iterated_power='auto', n_compon...   \n1   PCA(copy=True, iterated_power='auto', n_compon...   \n2                                                   -   \n3                                                   -   \n4   PCA(copy=True, iterated_power='auto', n_compon...   \n..                                                ...   \n65                                                  -   \n66  PCA(copy=True, iterated_power='auto', n_compon...   \n67  PCA(copy=True, iterated_power='auto', n_compon...   \n68  PCA(copy=True, iterated_power='auto', n_compon...   \n69                                                  -   \n\n                                      Standard Scaler  \n0   StandardScaler(copy=True, with_mean=True, with...  \n1   StandardScaler(copy=True, with_mean=True, with...  \n2                                                   -  \n3                                                   -  \n4   StandardScaler(copy=True, with_mean=True, with...  \n..                                                ...  \n65                                                  -  \n66  StandardScaler(copy=True, with_mean=True, with...  \n67  StandardScaler(copy=True, with_mean=True, with...  \n68  StandardScaler(copy=True, with_mean=True, with...  \n69                                                  -  \n\n[70 rows x 8 columns]",
      "text/html": "<div>\n<style scoped>\n    .dataframe tbody tr th:only-of-type {\n        vertical-align: middle;\n    }\n\n    .dataframe tbody tr th {\n        vertical-align: top;\n    }\n\n    .dataframe thead th {\n        text-align: right;\n    }\n</style>\n<table border=\"1\" class=\"dataframe\">\n  <thead>\n    <tr style=\"text-align: right;\">\n      <th></th>\n      <th>TargetFeature</th>\n      <th>InputFeature</th>\n      <th>BestAlgorithm</th>\n      <th>R^2</th>\n      <th>Accuracy</th>\n      <th>Model</th>\n      <th>PCA</th>\n      <th>Standard Scaler</th>\n    </tr>\n  </thead>\n  <tbody>\n    <tr>\n      <th>0</th>\n      <td>registration_age</td>\n      <td>reasons_translation_joyCategory| reasons_trans...</td>\n      <td>Gaussian Naive Bayes</td>\n      <td>-0.100981</td>\n      <td>0.178571</td>\n      <td>GaussianNB(priors=None, var_smoothing=1e-09)</td>\n      <td>PCA(copy=True, iterated_power='auto', n_compon...</td>\n      <td>StandardScaler(copy=True, with_mean=True, with...</td>\n    </tr>\n    <tr>\n      <th>1</th>\n      <td>job_status_edu_parttime</td>\n      <td>neurotizismusCategory| extraversionCategory| g...</td>\n      <td>Logistic Regression</td>\n      <td>-0.555556</td>\n      <td>0.642857</td>\n      <td>LogisticRegression(C=1.0, class_weight=None, d...</td>\n      <td>PCA(copy=True, iterated_power='auto', n_compon...</td>\n      <td>StandardScaler(copy=True, with_mean=True, with...</td>\n    </tr>\n    <tr>\n      <th>2</th>\n      <td>job_status_edu_fulltime</td>\n      <td>no input feature with p-value below 0.05</td>\n      <td>-</td>\n      <td>-</td>\n      <td>-</td>\n      <td>-</td>\n      <td>-</td>\n      <td>-</td>\n    </tr>\n    <tr>\n      <th>3</th>\n      <td>job_status_employed_parttime</td>\n      <td>no input feature with p-value below 0.05</td>\n      <td>-</td>\n      <td>-</td>\n      <td>-</td>\n      <td>-</td>\n      <td>-</td>\n      <td>-</td>\n    </tr>\n    <tr>\n      <th>4</th>\n      <td>job_status_employed_fulltime</td>\n      <td>strengths_translation_sadnessCategory| strengt...</td>\n      <td>Logistic Regression</td>\n      <td>-0.166667</td>\n      <td>0.714286</td>\n      <td>LogisticRegression(C=1.0, class_weight=None, d...</td>\n      <td>PCA(copy=True, iterated_power='auto', n_compon...</td>\n      <td>StandardScaler(copy=True, with_mean=True, with...</td>\n    </tr>\n    <tr>\n      <th>...</th>\n      <td>...</td>\n      <td>...</td>\n      <td>...</td>\n      <td>...</td>\n      <td>...</td>\n      <td>...</td>\n      <td>...</td>\n      <td>...</td>\n    </tr>\n    <tr>\n      <th>65</th>\n      <td>educational_achievement_Gymnasiale Maturität, ...</td>\n      <td>no input feature with p-value below 0.05</td>\n      <td>-</td>\n      <td>-</td>\n      <td>-</td>\n      <td>-</td>\n      <td>-</td>\n      <td>-</td>\n    </tr>\n    <tr>\n      <th>66</th>\n      <td>educational_achievement_Höhere Fach- und Beruf...</td>\n      <td>gewissenhaftigkeitCategory| story_translation_...</td>\n      <td>Logistic Regression</td>\n      <td>-0.333333</td>\n      <td>0.75</td>\n      <td>LogisticRegression(C=1.0, class_weight=None, d...</td>\n      <td>PCA(copy=True, iterated_power='auto', n_compon...</td>\n      <td>StandardScaler(copy=True, with_mean=True, with...</td>\n    </tr>\n    <tr>\n      <th>67</th>\n      <td>educational_achievement_Höhere Fachschule lusi...</td>\n      <td>utilization_translation_joyCategory</td>\n      <td>Logistic Regression</td>\n      <td>-0.0769231</td>\n      <td>0.928571</td>\n      <td>LogisticRegression(C=1.0, class_weight=None, d...</td>\n      <td>PCA(copy=True, iterated_power='auto', n_compon...</td>\n      <td>StandardScaler(copy=True, with_mean=True, with...</td>\n    </tr>\n    <tr>\n      <th>68</th>\n      <td>educational_achievement_Master, Lizentiat, Dip...</td>\n      <td>emotions_translation_joyCategory| strengths_tr...</td>\n      <td>KNN Classifier, Degree: 6</td>\n      <td>-0.166667</td>\n      <td>0.857143</td>\n      <td>KNeighborsClassifier(algorithm='auto', leaf_si...</td>\n      <td>PCA(copy=True, iterated_power='auto', n_compon...</td>\n      <td>StandardScaler(copy=True, with_mean=True, with...</td>\n    </tr>\n    <tr>\n      <th>69</th>\n      <td>educational_achievement_obligatorische Schule</td>\n      <td>no input feature with p-value below 0.05</td>\n      <td>-</td>\n      <td>-</td>\n      <td>-</td>\n      <td>-</td>\n      <td>-</td>\n      <td>-</td>\n    </tr>\n  </tbody>\n</table>\n<p>70 rows × 8 columns</p>\n</div>"
     },
     "metadata": {},
     "execution_count": 12
    }
   ],
   "source": [
    "start_time = time.time()\n",
    "result = coins.classification.findBestClassifier([dfPersonality, dfImageDescriptions], dfSocioDemographics)\n",
    "end_time = time.time()\n",
    "print(\"--- %s seconds ---\" % (end_time - start_time))\n",
    "result"
   ]
  },
  {
   "cell_type": "code",
   "execution_count": 13,
   "metadata": {},
   "outputs": [
    {
     "output_type": "stream",
     "name": "stdout",
     "text": "completed: registration_age\ncompleted: job_status_edu_parttime\ncompleted: job_status_edu_fulltime\ncompleted: job_status_employed_parttime\ncompleted: job_status_employed_fulltime\ncompleted: job_status_selfemployed\ncompleted: job_status_houskeeping\ncompleted: job_status_unemployed\ncompleted: gender_f\ncompleted: gender_m\ncompleted: registration_ageKat_10-19\ncompleted: registration_ageKat_20-29\ncompleted: registration_ageKat_30-39\ncompleted: registration_ageKat_40-49\ncompleted: registration_ageKat_50-59\ncompleted: country_AT\ncompleted: country_CH\ncompleted: country_DE\ncompleted: country_IT\ncompleted: work_country_CH\ncompleted: work_country_DE\ncompleted: work_district_AG\ncompleted: work_district_BE\ncompleted: work_district_BL\ncompleted: work_district_BS\ncompleted: work_district_GR\ncompleted: work_district_HE\ncompleted: work_district_LU\ncompleted: work_district_NI\ncompleted: work_district_NW\ncompleted: work_district_SG\ncompleted: work_district_SO\ncompleted: work_district_TG\ncompleted: work_district_ZG\ncompleted: work_district_ZH\ncompleted: job_position_Fachspezialist/-in\ncompleted: job_position_Sachbearbeiter/-in\ncompleted: job_position_mittlere Führungsstufe (z.B. Abteilungs- / Bereichsleitung)\ncompleted: job_position_obere Führungsstufe (z.B. Geschäftsleitung / CEO)\ncompleted: job_position_untere Führungsstufe (z.B. Teamleitung)\ncompleted: job_sector_Baugewerbe/Bau\ncompleted: job_sector_Energieversorgung\ncompleted: job_sector_Erbringung von Finanz- und Versicherungsdienstleistungen\ncompleted: job_sector_Erbringung von freiberuflichen, wissenschaftlichen und technischen Dienstleistungen\ncompleted: job_sector_Erbringung von sonstigen Dienstleistungen\ncompleted: job_sector_Erbringung von sonstigen wirtschaftlichen Dienstleistungen\ncompleted: job_sector_Erziehung und Unterricht\ncompleted: job_sector_Gastgewerbe/Beherbergung und Gastronomie\ncompleted: job_sector_Gesundheits- und Sozialwesen\ncompleted: job_sector_Handel; Instandhaltung und Reparatur von Kraftfahrzeugen\ncompleted: job_sector_Information und Kommunikation\ncompleted: job_sector_Kunst, Unterhaltung und Erholung\ncompleted: job_sector_Verarbeitendes Gewerbe/Herstellung von Waren\ncompleted: job_sector_Verkehr und Lagerei\ncompleted: job_sector_Öffentliche Verwaltung, Verteidigung; Sozialversicherung\ncompleted: company_size_1.0\ncompleted: company_size_249.0\ncompleted: company_size_250.0\ncompleted: company_size_49.0\ncompleted: company_size_9.0\ncompleted: educational_achievement_2- bis 3-jährige Diplommittelschule, Verkehrsschule, Fachmittelschule FMS\ncompleted: educational_achievement_Bachelor\ncompleted: educational_achievement_Berufliche Grundbildung\ncompleted: educational_achievement_Berufs- oder Fachmaturität\ncompleted: educational_achievement_Doktorat, Habilitation\ncompleted: educational_achievement_Gymnasiale Maturität, Lehrkräfte-Seminar\ncompleted: educational_achievement_Höhere Fach- und Berufsausbildung mit eidg. Fachausweis, eidg. Diplom oder Meisterdiplom, Höhere Fachschule für Technik\ncompleted: educational_achievement_Höhere Fachschule lusive Nachdiplome\ncompleted: educational_achievement_Master, Lizentiat, Diplom, Staatsexamen, Nachdiplom\ncompleted: educational_achievement_obligatorische Schule\n--- 173.14619183540344 seconds ---\n"
    },
    {
     "output_type": "execute_result",
     "data": {
      "text/plain": "                                        TargetFeature  \\\n0                                    registration_age   \n1                             job_status_edu_parttime   \n2                             job_status_edu_fulltime   \n3                        job_status_employed_parttime   \n4                        job_status_employed_fulltime   \n..                                                ...   \n65  educational_achievement_Gymnasiale Maturität, ...   \n66  educational_achievement_Höhere Fach- und Beruf...   \n67  educational_achievement_Höhere Fachschule lusi...   \n68  educational_achievement_Master, Lizentiat, Dip...   \n69      educational_achievement_obligatorische Schule   \n\n                                         InputFeature  \\\n0   reasons_translation_joyCategory| reasons_trans...   \n1                               neurotizismusCategory   \n2            no input feature with p-value below 0.05   \n3            no input feature with p-value below 0.05   \n4   strengths_translation_joyCategory| story_trans...   \n..                                                ...   \n65           no input feature with p-value below 0.05   \n66                         gewissenhaftigkeitCategory   \n67                utilization_translation_joyCategory   \n68                   emotions_translation_joyCategory   \n69           no input feature with p-value below 0.05   \n\n                BestAlgorithm        R^2  Accuracy  \\\n0   KNN Classifier, Degree: 7  -0.404898      0.25   \n1         Logistic Regression  -0.555556  0.642857   \n2                           -          -         -   \n3                           -          -         -   \n4         Logistic Regression  -0.166667  0.714286   \n..                        ...        ...       ...   \n65                          -          -         -   \n66        Logistic Regression  -0.333333      0.75   \n67        Logistic Regression -0.0769231  0.928571   \n68        Logistic Regression  -0.166667  0.857143   \n69                          -          -         -   \n\n                                                Model  \\\n0   KNeighborsClassifier(algorithm='auto', leaf_si...   \n1   LogisticRegression(C=1.0, class_weight=None, d...   \n2                                                   -   \n3                                                   -   \n4   LogisticRegression(C=1.0, class_weight=None, d...   \n..                                                ...   \n65                                                  -   \n66  LogisticRegression(C=1.0, class_weight=None, d...   \n67  LogisticRegression(C=1.0, class_weight=None, d...   \n68  LogisticRegression(C=1.0, class_weight=None, d...   \n69                                                  -   \n\n                                                  PCA  \\\n0   PCA(copy=True, iterated_power='auto', n_compon...   \n1   PCA(copy=True, iterated_power='auto', n_compon...   \n2                                                   -   \n3                                                   -   \n4   PCA(copy=True, iterated_power='auto', n_compon...   \n..                                                ...   \n65                                                  -   \n66  PCA(copy=True, iterated_power='auto', n_compon...   \n67  PCA(copy=True, iterated_power='auto', n_compon...   \n68  PCA(copy=True, iterated_power='auto', n_compon...   \n69                                                  -   \n\n                                      Standard Scaler  \n0   StandardScaler(copy=True, with_mean=True, with...  \n1   StandardScaler(copy=True, with_mean=True, with...  \n2                                                   -  \n3                                                   -  \n4   StandardScaler(copy=True, with_mean=True, with...  \n..                                                ...  \n65                                                  -  \n66  StandardScaler(copy=True, with_mean=True, with...  \n67  StandardScaler(copy=True, with_mean=True, with...  \n68  StandardScaler(copy=True, with_mean=True, with...  \n69                                                  -  \n\n[70 rows x 8 columns]",
      "text/html": "<div>\n<style scoped>\n    .dataframe tbody tr th:only-of-type {\n        vertical-align: middle;\n    }\n\n    .dataframe tbody tr th {\n        vertical-align: top;\n    }\n\n    .dataframe thead th {\n        text-align: right;\n    }\n</style>\n<table border=\"1\" class=\"dataframe\">\n  <thead>\n    <tr style=\"text-align: right;\">\n      <th></th>\n      <th>TargetFeature</th>\n      <th>InputFeature</th>\n      <th>BestAlgorithm</th>\n      <th>R^2</th>\n      <th>Accuracy</th>\n      <th>Model</th>\n      <th>PCA</th>\n      <th>Standard Scaler</th>\n    </tr>\n  </thead>\n  <tbody>\n    <tr>\n      <th>0</th>\n      <td>registration_age</td>\n      <td>reasons_translation_joyCategory| reasons_trans...</td>\n      <td>KNN Classifier, Degree: 7</td>\n      <td>-0.404898</td>\n      <td>0.25</td>\n      <td>KNeighborsClassifier(algorithm='auto', leaf_si...</td>\n      <td>PCA(copy=True, iterated_power='auto', n_compon...</td>\n      <td>StandardScaler(copy=True, with_mean=True, with...</td>\n    </tr>\n    <tr>\n      <th>1</th>\n      <td>job_status_edu_parttime</td>\n      <td>neurotizismusCategory</td>\n      <td>Logistic Regression</td>\n      <td>-0.555556</td>\n      <td>0.642857</td>\n      <td>LogisticRegression(C=1.0, class_weight=None, d...</td>\n      <td>PCA(copy=True, iterated_power='auto', n_compon...</td>\n      <td>StandardScaler(copy=True, with_mean=True, with...</td>\n    </tr>\n    <tr>\n      <th>2</th>\n      <td>job_status_edu_fulltime</td>\n      <td>no input feature with p-value below 0.05</td>\n      <td>-</td>\n      <td>-</td>\n      <td>-</td>\n      <td>-</td>\n      <td>-</td>\n      <td>-</td>\n    </tr>\n    <tr>\n      <th>3</th>\n      <td>job_status_employed_parttime</td>\n      <td>no input feature with p-value below 0.05</td>\n      <td>-</td>\n      <td>-</td>\n      <td>-</td>\n      <td>-</td>\n      <td>-</td>\n      <td>-</td>\n    </tr>\n    <tr>\n      <th>4</th>\n      <td>job_status_employed_fulltime</td>\n      <td>strengths_translation_joyCategory| story_trans...</td>\n      <td>Logistic Regression</td>\n      <td>-0.166667</td>\n      <td>0.714286</td>\n      <td>LogisticRegression(C=1.0, class_weight=None, d...</td>\n      <td>PCA(copy=True, iterated_power='auto', n_compon...</td>\n      <td>StandardScaler(copy=True, with_mean=True, with...</td>\n    </tr>\n    <tr>\n      <th>...</th>\n      <td>...</td>\n      <td>...</td>\n      <td>...</td>\n      <td>...</td>\n      <td>...</td>\n      <td>...</td>\n      <td>...</td>\n      <td>...</td>\n    </tr>\n    <tr>\n      <th>65</th>\n      <td>educational_achievement_Gymnasiale Maturität, ...</td>\n      <td>no input feature with p-value below 0.05</td>\n      <td>-</td>\n      <td>-</td>\n      <td>-</td>\n      <td>-</td>\n      <td>-</td>\n      <td>-</td>\n    </tr>\n    <tr>\n      <th>66</th>\n      <td>educational_achievement_Höhere Fach- und Beruf...</td>\n      <td>gewissenhaftigkeitCategory</td>\n      <td>Logistic Regression</td>\n      <td>-0.333333</td>\n      <td>0.75</td>\n      <td>LogisticRegression(C=1.0, class_weight=None, d...</td>\n      <td>PCA(copy=True, iterated_power='auto', n_compon...</td>\n      <td>StandardScaler(copy=True, with_mean=True, with...</td>\n    </tr>\n    <tr>\n      <th>67</th>\n      <td>educational_achievement_Höhere Fachschule lusi...</td>\n      <td>utilization_translation_joyCategory</td>\n      <td>Logistic Regression</td>\n      <td>-0.0769231</td>\n      <td>0.928571</td>\n      <td>LogisticRegression(C=1.0, class_weight=None, d...</td>\n      <td>PCA(copy=True, iterated_power='auto', n_compon...</td>\n      <td>StandardScaler(copy=True, with_mean=True, with...</td>\n    </tr>\n    <tr>\n      <th>68</th>\n      <td>educational_achievement_Master, Lizentiat, Dip...</td>\n      <td>emotions_translation_joyCategory</td>\n      <td>Logistic Regression</td>\n      <td>-0.166667</td>\n      <td>0.857143</td>\n      <td>LogisticRegression(C=1.0, class_weight=None, d...</td>\n      <td>PCA(copy=True, iterated_power='auto', n_compon...</td>\n      <td>StandardScaler(copy=True, with_mean=True, with...</td>\n    </tr>\n    <tr>\n      <th>69</th>\n      <td>educational_achievement_obligatorische Schule</td>\n      <td>no input feature with p-value below 0.05</td>\n      <td>-</td>\n      <td>-</td>\n      <td>-</td>\n      <td>-</td>\n      <td>-</td>\n      <td>-</td>\n    </tr>\n  </tbody>\n</table>\n<p>70 rows × 8 columns</p>\n</div>"
     },
     "metadata": {},
     "execution_count": 13
    }
   ],
   "source": [
    "start_time = time.time()\n",
    "result = coins.classification.findBestClassifier([dfPersonality, dfImageDescriptions], dfSocioDemographics, inputFeatureCombination=True)\n",
    "end_time = time.time()\n",
    "print(\"--- %s seconds ---\" % (end_time - start_time))\n",
    "result"
   ]
  },
  {
   "cell_type": "code",
   "execution_count": null,
   "metadata": {},
   "outputs": [],
   "source": []
  }
 ],
 "metadata": {
  "language_info": {
   "codemirror_mode": {
    "name": "ipython",
    "version": 3
   },
   "file_extension": ".py",
   "mimetype": "text/x-python",
   "name": "python",
   "nbconvert_exporter": "python",
   "pygments_lexer": "ipython3",
   "version": "3.7.7-final"
  },
  "orig_nbformat": 2,
  "kernelspec": {
   "name": "python37764bitcoinsconda164a24dc70bc4ad28fd233035de8d097",
   "display_name": "Python 3.7.7 64-bit ('coins': conda)"
  }
 },
 "nbformat": 4,
 "nbformat_minor": 2
}