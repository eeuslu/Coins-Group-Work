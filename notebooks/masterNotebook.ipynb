{
 "cells": [
  {
   "cell_type": "code",
   "execution_count": 1,
   "metadata": {},
   "outputs": [],
   "source": [
    "import coins\n",
    "import pandas as pd\n",
    "import numpy as np"
   ]
  },
  {
   "cell_type": "code",
   "execution_count": 2,
   "metadata": {},
   "outputs": [],
   "source": [
    "mood = coins.io.getPreprocessedRawData('mood')"
   ]
  },
  {
   "cell_type": "code",
   "execution_count": 5,
   "metadata": {},
   "outputs": [
    {
     "output_type": "stream",
     "name": "stdout",
     "text": "<class 'pandas.core.frame.DataFrame'>\nInt64Index: 28127 entries, 1 to 28142\nData columns (total 48 columns):\n #   Column                        Non-Null Count  Dtype              \n---  ------                        --------------  -----              \n 0   user_id                       28127 non-null  object             \n 1   user_created_at               28127 non-null  datetime64[ns, UTC]\n 2   sign_in_count                 28127 non-null  int64              \n 3   last_sign_in_at               28127 non-null  datetime64[ns, UTC]\n 4   gender                        28127 non-null  category           \n 5   country                       28127 non-null  category           \n 6   work_country                  21436 non-null  category           \n 7   work_district                 18366 non-null  category           \n 8   job_position                  16484 non-null  category           \n 9   job_sector                    17476 non-null  category           \n 10  found_over                    23646 non-null  category           \n 11  company_size                  12424 non-null  category           \n 12  job_status_edu_fulltime       20804 non-null  float64            \n 13  job_status_edu_parttime       20804 non-null  float64            \n 14  job_status_employed_fulltime  20804 non-null  float64            \n 15  job_status_employed_parttime  20804 non-null  float64            \n 16  job_status_selfemployed       20804 non-null  float64            \n 17  job_status_houskeeping        20804 non-null  float64            \n 18  job_status_unemployed         20804 non-null  float64            \n 19  job_status_retired            20804 non-null  float64            \n 20  educational_achievement       25593 non-null  category           \n 21  registration_age              28127 non-null  int64              \n 22  registration_ageKat           28127 non-null  category           \n 23  session_id                    28127 non-null  object             \n 24  session_created_at            28127 non-null  datetime64[ns, UTC]\n 25  session_updated_at            28127 non-null  datetime64[ns, UTC]\n 26  sequence                      4599 non-null   float64            \n 27  mood_id                       85 non-null     object             \n 28  external_impressions          28127 non-null  int64              \n 29  coordinates                   15556 non-null  object             \n 30  time_zone                     15190 non-null  object             \n 31  version                       28127 non-null  category           \n 32  situation_description         28064 non-null  object             \n 33  happiness1                    28121 non-null  float64            \n 34  pa1                           28120 non-null  float64            \n 35  na1                           28119 non-null  float64            \n 36  pa2                           28118 non-null  float64            \n 37  na2                           28119 non-null  float64            \n 38  happiness2                    28119 non-null  float64            \n 39  pa3                           28118 non-null  float64            \n 40  na3                           28121 non-null  float64            \n 41  pa4                           28118 non-null  float64            \n 42  na4                           28120 non-null  float64            \n 43  age                           28127 non-null  int64              \n 44  ageKat                        28127 non-null  category           \n 45  PositiveAktivierung           28117 non-null  float64            \n 46  NegativeAktivierung           28118 non-null  float64            \n 47  Zufriedenheit_Glueck          28119 non-null  float64            \ndtypes: category(12), datetime64[ns, UTC](4), float64(22), int64(4), object(6)\nmemory usage: 8.3+ MB\n"
    }
   ],
   "source": [
    "mood.info()"
   ]
  },
  {
   "cell_type": "code",
   "execution_count": null,
   "metadata": {},
   "outputs": [],
   "source": []
  }
 ],
 "metadata": {
  "language_info": {
   "codemirror_mode": {
    "name": "ipython",
    "version": 3
   },
   "file_extension": ".py",
   "mimetype": "text/x-python",
   "name": "python",
   "nbconvert_exporter": "python",
   "pygments_lexer": "ipython3",
   "version": "3.7.7-final"
  },
  "orig_nbformat": 2,
  "kernelspec": {
   "name": "python37764bitcoinsconda164a24dc70bc4ad28fd233035de8d097",
   "display_name": "Python 3.7.7 64-bit ('coins': conda)"
  }
 },
 "nbformat": 4,
 "nbformat_minor": 2
}